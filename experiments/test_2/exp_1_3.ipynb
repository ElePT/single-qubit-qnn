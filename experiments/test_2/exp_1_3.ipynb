{
 "cells": [
  {
   "cell_type": "code",
   "execution_count": 1,
   "id": "e62fb988-d199-40df-8763-52fa4d7ec6de",
   "metadata": {},
   "outputs": [],
   "source": [
    "from qiskit import Aer, QuantumCircuit\n",
    "from qiskit.circuit import Parameter, ParameterVector\n",
    "from qiskit.opflow import StateFn, PauliSumOp, AerPauliExpectation, ListOp, Gradient, OperatorStateFn\n",
    "from qiskit.utils import QuantumInstance\n",
    "import matplotlib.pyplot as plt\n",
    "from qiskit_utils import BinaryObjectiveFunction\n",
    "from data_utils import circle, plot_data, generate_ds\n",
    "import numpy as np\n",
    "# Set a random seed\n",
    "np.random.seed(42)"
   ]
  },
  {
   "cell_type": "code",
   "execution_count": 2,
   "id": "604c6cc7-1983-4d3e-8177-af31251f60e5",
   "metadata": {},
   "outputs": [],
   "source": [
    "# Generate training and test data\n",
    "num_training = 200\n",
    "num_test = 2000\n",
    "\n",
    "X_train, y_train, new_y_train = generate_ds(num_training)\n",
    "X_test, y_test, new_y_test= generate_ds(num_test)"
   ]
  },
  {
   "cell_type": "code",
   "execution_count": 3,
   "id": "36096802-c15b-43bf-b2ab-b13c7c4b313a",
   "metadata": {},
   "outputs": [],
   "source": [
    "# set method to calculcate expected values\n",
    "expval = AerPauliExpectation()\n",
    "\n",
    "# define gradient method\n",
    "gradient = Gradient()\n",
    "\n",
    "# define quantum instances (statevector and sample based)\n",
    "qi_sv = QuantumInstance(Aer.get_backend('aer_simulator_statevector'))"
   ]
  },
  {
   "cell_type": "code",
   "execution_count": 6,
   "id": "7d65245c-cc05-4735-9c3a-3cc7dacb2512",
   "metadata": {},
   "outputs": [
    {
     "name": "stdout",
     "output_type": "stream",
     "text": [
      "ComposedOp([\n",
      "  OperatorMeasurement(1.0 * Z),\n",
      "  CircuitStateFn(\n",
      "       »\n",
      "  q_0: »\n",
      "       »\n",
      "  «     ┌──────────────────────────────────────────────────────────────────────────────┐»\n",
      "  «q_0: ┤ Rz(input[0]*weight[0] + input[1]*weight[1] + input[2]*weight[2] + weight[3]) ├»\n",
      "  «     └──────────────────────────────────────────────────────────────────────────────┘»\n",
      "  «     ┌───────────────┐»\n",
      "  «q_0: ┤ Ry(weight[4]) ├»\n",
      "  «     └───────────────┘»\n",
      "  «     ┌──────────────────────────────────────────────────────────────────────────────┐»\n",
      "  «q_0: ┤ Rz(input[0]*weight[5] + input[1]*weight[6] + input[2]*weight[7] + weight[8]) ├»\n",
      "  «     └──────────────────────────────────────────────────────────────────────────────┘»\n",
      "  «     ┌───────────────┐»\n",
      "  «q_0: ┤ Ry(weight[9]) ├»\n",
      "  «     └───────────────┘»\n",
      "  «     ┌──────────────────────────────────────────────────────────────────────────────────┐»\n",
      "  «q_0: ┤ Rz(input[0]*weight[10] + input[1]*weight[11] + input[2]*weight[12] + weight[13]) ├»\n",
      "  «     └──────────────────────────────────────────────────────────────────────────────────┘»\n",
      "  «     ┌────────────────┐\n",
      "  «q_0: ┤ Ry(weight[14]) ├\n",
      "  «     └────────────────┘\n",
      "  )\n",
      "])\n",
      "15\n"
     ]
    }
   ],
   "source": [
    "# construct parametrized circuit\n",
    "from qiskit_machine_learning.neural_networks import OpflowQNN\n",
    "\n",
    "inputs = ParameterVector('input', length=4) # 1 extra for label\n",
    "# inputs = ParameterVector('input', length=3)\n",
    "weights = ParameterVector('weight', length=15)\n",
    "\n",
    "# 1qubit classifier\n",
    "qc1 = QuantumCircuit(1)\n",
    "qc1.rz(inputs[0]*weights[0]+inputs[1]*weights[1]+inputs[2]*weights[2] + weights[3],0)\n",
    "qc1.ry(weights[4],0)\n",
    "qc1.rz(inputs[0]*weights[5]+inputs[1]*weights[6]+inputs[2]*weights[7] + weights[8],0)\n",
    "qc1.ry(weights[9],0)\n",
    "qc1.rz(inputs[0]*weights[10]+inputs[1]*weights[11]+inputs[2]*weights[12] + weights[13],0)\n",
    "qc1.ry(weights[14],0)\n",
    "qc_sfn1 = StateFn(qc1)\n",
    "\n",
    "H1 = StateFn(PauliSumOp.from_list([('Z', 1.0)]))  \n",
    "H2 = StateFn(PauliSumOp.from_list([('Z', -1.0)]))  \n",
    "\n",
    "op1 = ~H1 @ (qc_sfn1)\n",
    "op2 = ~H2 @ (qc_sfn1)\n",
    "print(op1)\n",
    "print(len(weights))"
   ]
  },
  {
   "cell_type": "code",
   "execution_count": 7,
   "id": "e1ac7219-33a6-4069-a8cf-88480374c6f2",
   "metadata": {},
   "outputs": [],
   "source": [
    "# construct OpflowQNN with the operator, the input parameters, the weight parameters,\n",
    "# the expected value, gradient, and quantum instance.\n",
    "qnn1 = OpflowQNN(op1, inputs, weights, expval, gradient, qi_sv, input_gradients=True)\n",
    "qnn2 = OpflowQNN(op2, inputs, weights, expval, gradient, qi_sv, input_gradients=True)"
   ]
  },
  {
   "cell_type": "code",
   "execution_count": 8,
   "id": "af44d36f",
   "metadata": {},
   "outputs": [],
   "source": [
    "from qiskit.algorithms.optimizers import ADAM, L_BFGS_B\n",
    "from qiskit_machine_learning.utils.loss_functions import L2Loss\n",
    "\n",
    "losses = []\n",
    "def callback_fn(avg_loss, weights):\n",
    "    print(\"weights: \", weights)\n",
    "    print(\"loss: \", avg_loss)\n",
    "    losses.append(avg_loss)\n",
    "\n",
    "function = BinaryObjectiveFunction(X_train, new_y_train, qnn1, qnn2, L2Loss(), callback_fn)"
   ]
  },
  {
   "cell_type": "code",
   "execution_count": 20,
   "id": "e6582a7d",
   "metadata": {},
   "outputs": [
    {
     "name": "stdout",
     "output_type": "stream",
     "text": [
      "<bound method BinaryObjectiveFunction.gradient of <__main__.BinaryObjectiveFunction object at 0x0000016D1DE5B730>>\n",
      "weights:  [0.95308645 0.67008829 0.85223113 0.90210113 0.1195655  0.59731135\n",
      " 0.1028482  0.01160264 0.16869933 0.55863289 0.73696721 0.65626574\n",
      " 0.37927727 0.45283662 0.14721994]\n",
      "loss:  1.6235171779482913\n",
      "weights:  [0.95308645 0.67008829 0.85223113 0.90210113 0.68572838 0.56668633\n",
      " 0.09908887 0.01160264 0.15144057 1.22835803 0.70009437 0.63750786\n",
      " 0.37927727 0.42199129 0.62368091]\n",
      "loss:  1.432631653479909\n",
      "weights:  [0.95308645 0.67008829 0.85223113 0.90210113 0.46846384 0.55803053\n",
      " 0.09937135 0.01160264 0.20222176 0.995646   0.69280836 0.64364063\n",
      " 0.37927727 0.48779513 0.42995747]\n",
      "loss:  1.103319924446802\n",
      "weights:  [0.95308645 0.67008829 0.85223113 0.90210113 0.30224888 0.46339261\n",
      " 0.08458544 0.01160264 0.19184013 0.89191567 0.60110619 0.61722805\n",
      " 0.37927727 0.49978523 0.2125935 ]\n",
      "loss:  1.1222765144618863\n",
      "weights:  [0.95308645 0.67008829 0.85223113 0.90210113 0.39420749 0.51575114\n",
      " 0.09276576 0.01160264 0.19758378 0.94930459 0.65184052 0.63184084\n",
      " 0.37927727 0.4931517  0.33285035]\n",
      "loss:  1.069876276722458\n",
      "weights:  [0.95308645 0.67008829 0.85223113 0.90210113 0.39171271 0.46830862\n",
      " 0.08578662 0.01160264 0.19138451 0.98480406 0.60701437 0.61725348\n",
      " 0.37927727 0.49537292 0.29301778]\n",
      "loss:  1.0528782826929586\n",
      "weights:  [ 0.95308645  0.67008829  0.85223113  0.90210113  0.49306884  0.11694384\n",
      "  0.05078147  0.01160264  0.18336212  1.20137624  0.39002836  0.5283711\n",
      "  0.37927727  0.58775805 -0.02243029]\n",
      "loss:  0.9963968800969292\n",
      "weights:  [ 0.95308645  0.67008829  0.85223113  0.90210113  0.48844888  0.05707231\n",
      "  0.05752408  0.01160264  0.17940448  1.2104734   0.37643191  0.51887547\n",
      "  0.37927727  0.57787696 -0.08071152]\n",
      "loss:  0.9940430985820771\n",
      "weights:  [ 0.95308645  0.67008829  0.85223113  0.90210113  0.49468902  0.03595846\n",
      "  0.06060452  0.01160264  0.17896007  1.21967087  0.37416863  0.51641322\n",
      "  0.37927727  0.57636417 -0.0990118 ]\n",
      "loss:  0.993802513532333\n",
      "weights:  [ 0.95308645  0.67008829  0.85223113  0.90210113  0.50360386  0.00708919\n",
      "  0.08069176  0.01160264  0.17712416  1.23864897  0.39845687  0.52099578\n",
      "  0.37927727  0.54547646 -0.13487119]\n",
      "loss:  0.9928019112832364\n",
      "weights:  [ 0.95308645  0.67008829  0.85223113  0.90210113  0.53926324 -0.1083879\n",
      "  0.16104073  0.01160264  0.16978052  1.31456136  0.49560981  0.53932601\n",
      "  0.37927727  0.42192563 -0.27830872]\n",
      "loss:  0.9886092935570295\n",
      "weights:  [ 0.95308645  0.67008829  0.85223113  0.90210113  0.68190077 -0.57029622\n",
      "  0.48243661  0.01160264  0.14040595  1.61821093  0.8842216   0.61264696\n",
      "  0.37927727 -0.0722777  -0.85205888]\n",
      "loss:  1.024758975891002\n",
      "weights:  [ 0.95308645  0.67008829  0.85223113  0.90210113  0.57310971 -0.21799417\n",
      "  0.23730479  0.01160264  0.16281022  1.38661439  0.58782354  0.55672435\n",
      "  0.37927727  0.30465607 -0.41445395]\n",
      "loss:  0.9855003114979743\n",
      "weights:  [ 0.95308645  0.67008829  0.85223113  0.90210113  1.3915309  -2.68406916\n",
      "  2.21594478  0.01160264 -0.00939475  3.16474159  3.13691998  1.10045914\n",
      "  0.37927727 -2.80905148 -3.67204639]\n",
      "loss:  1.1183694043603587\n",
      "weights:  [ 0.95308645  0.67008829  0.85223113  0.90210113  0.63782409 -0.41299217\n",
      "  0.39376023  0.01160264  0.1491936   1.52721485  0.78938624  0.59971866\n",
      "  0.37927727  0.05844833 -0.67203899]\n",
      "loss:  0.9872954320653746\n",
      "weights:  [ 0.95308645  0.67008829  0.85223113  0.90210113  0.60191371 -0.30478667\n",
      "  0.30694222  0.01160264  0.15674954  1.44919486  0.67753795  0.57586087\n",
      "  0.37927727  0.1950704  -0.52910359]\n",
      "loss:  0.9833774804279263\n",
      "weights:  [ 0.95308645  0.67008829  0.85223113  0.90210113  0.6356896  -0.38271804\n",
      "  0.41311266  0.01160264  0.15073881  1.5304758   0.83199977  0.62355444\n",
      "  0.37927727  0.02769728 -0.65459261]\n",
      "loss:  0.9734289808538276\n",
      "weights:  [ 0.95308645  0.67008829  0.85223113  0.90210113  0.73931087 -0.57409203\n",
      "  0.90802913  0.01160264  0.13867847  1.86293706  1.64144279  0.91833214\n",
      "  0.37927727 -0.81575769 -1.13007923]\n",
      "loss:  1.0198148846932538\n",
      "weights:  [ 0.95308645  0.67008829  0.85223113  0.90210113  0.65952986 -0.42674765\n",
      "  0.52697861  0.01160264  0.14796407  1.60696551  1.01822918  0.69137425\n",
      "  0.37927727 -0.16635729 -0.76398831]\n",
      "loss:  0.9596918043315307\n",
      "weights:  [ 0.95308645  0.67008829  0.85223113  0.90210113  0.65201263 -0.33768389\n",
      "  0.62049943  0.01160264  0.18355348  1.65632476  1.27577043  0.78763631\n",
      "  0.37927727 -0.39793436 -0.79225237]\n",
      "loss:  0.9258503973993433\n",
      "weights:  [ 0.95308645  0.67008829  0.85223113  0.90210113  0.59186705 -0.0689885\n",
      "  0.57522148  0.01160264  0.28962952  1.62400363  1.46520511  0.84653587\n",
      "  0.37927727 -0.49415455 -0.68918922]\n",
      "loss:  0.8766793654832057\n",
      "weights:  [ 0.95308645  0.67008829  0.85223113  0.90210113  0.55350589  0.30691149\n",
      "  0.49218481  0.01160264  0.52213612  1.64887599  1.85010662  0.95006099\n",
      "  0.37927727 -0.60651366 -0.77206084]\n",
      "loss:  0.815839470110277\n",
      "weights:  [ 0.95308645  0.67008829  0.85223113  0.90210113  0.59183887  0.83747065\n",
      "  0.27358417  0.01160264  0.8875758   1.65256375  2.31070519  0.9743671\n",
      "  0.37927727 -0.42900336 -0.8948653 ]\n",
      "loss:  0.7479864465181394\n",
      "weights:  [ 0.95308645  0.67008829  0.85223113  0.90210113  0.60263412  1.49062214\n",
      "  0.08563478  0.01160264  1.38898265  1.83262482  3.1195942   0.66043663\n",
      "  0.37927727 -0.40335127 -1.25162404]\n",
      "loss:  0.6405375821563187\n",
      "weights:  [ 0.95308645  0.67008829  0.85223113  0.90210113  0.65812378  4.55158991\n",
      " -0.86745687  0.01160264  3.71030262  2.62084614  5.27019639 -1.44938601\n",
      "  0.37927727  0.129466   -2.10440481]\n",
      "loss:  1.6710802966145162\n",
      "weights:  [ 0.95308645  0.67008829  0.85223113  0.90210113  0.60712174  1.73817176\n",
      "  0.00855541  0.01160264  1.57671474  1.89637063  3.29351983  0.48980896\n",
      "  0.37927727 -0.36026074 -1.32059097]\n",
      "loss:  0.6070721279478031\n",
      "weights:  [ 0.95308645  0.67008829  0.85223113  0.90210113  0.50404717  3.26767743\n",
      " -0.28153518  0.01160264  2.74370003  2.02527133  4.36200382 -0.55009887\n",
      "  0.37927727 -0.12955829 -1.35128192]\n",
      "loss:  0.6569430451872222\n",
      "weights:  [ 0.95308645  0.67008829  0.85223113  0.90210113  0.56191679  2.40896015\n",
      " -0.11866831  0.01160264  2.08851421  1.95290203  3.76212003  0.03374128\n",
      "  0.37927727 -0.25908261 -1.33405096]\n",
      "loss:  0.5567669209128265\n",
      "weights:  [ 0.95308645  0.67008829  0.85223113  0.90210113  0.63731776  2.73641537\n",
      " -0.27020413  0.01160264  2.30913889  1.84126022  3.56063781 -0.29719417\n",
      "  0.37927727  0.09275834 -1.14276636]\n",
      "loss:  0.5510292757160488\n",
      "weights:  [ 0.95308645  0.67008829  0.85223113  0.90210113  0.64142808  2.55842201\n",
      " -0.11118724  0.01160264  2.27989801  1.80328677  3.58963326 -0.1186098\n",
      "  0.37927727 -0.08085356 -1.20417008]\n",
      "loss:  0.5430184452966687\n",
      "weights:  [ 0.95308645  0.67008829  0.85223113  0.90210113  0.57717054  2.59257763\n",
      " -0.01314231  0.01160264  2.37032792  1.83008473  3.8415641  -0.01117251\n",
      "  0.37927727 -0.15754423 -1.29167307]\n",
      "loss:  0.5410954063175175\n",
      "weights:  [ 0.95308645  0.67008829  0.85223113  0.90210113  0.58748678  2.60046903\n",
      " -0.04472746  0.01160264  2.34742853  1.79519364  3.71365888 -0.06542228\n",
      "  0.37927727 -0.04972025 -1.21868876]\n",
      "loss:  0.5361813182003464\n",
      "weights:  [ 0.95308645  0.67008829  0.85223113  0.90210113  0.57329126  2.56672072\n",
      "  0.00564349  0.01160264  2.35313588  1.74980935  3.6866884  -0.04310337\n",
      "  0.37927727 -0.04108764 -1.19768753]\n",
      "loss:  0.5350052509123288\n",
      "weights:  [ 0.95308645  0.67008829  0.85223113  0.90210113  0.55962385  2.59501827\n",
      "  0.10123606  0.01160264  2.42527071  1.68900024  3.70670045 -0.03603754\n",
      "  0.37927727 -0.01788474 -1.17349063]\n",
      "loss:  0.5337214425949084\n",
      "weights:  [ 0.95308645  0.67008829  0.85223113  0.90210113  0.52917156  2.54746362\n",
      "  0.33817706  0.01160264  2.45732257  1.6178234   3.71533061  0.01067095\n",
      "  0.37927727 -0.00817801 -1.15471295]\n",
      "loss:  0.5313143999126388\n",
      "weights:  [ 0.95308645  0.67008829  0.85223113  0.90210113  0.40736237  2.35724502\n",
      "  1.28594106  0.01160264  2.58553001  1.33311601  3.74985126  0.19750489\n",
      "  0.37927727  0.03064894 -1.07960224]\n",
      "loss:  0.5218871297376735\n",
      "weights:  [ 0.95308645  0.67008829  0.85223113  0.90210113 -0.00946855  1.70013705\n",
      "  5.22379463  0.01160264  3.23618565  0.32258028  4.09491244  0.91012407\n",
      "  0.37927727  0.05024261 -0.9473412 ]\n",
      "loss:  1.1615978772561604\n",
      "weights:  [ 0.95308645  0.67008829  0.85223113  0.90210113  0.39817169  2.34275648\n",
      "  1.37276659  0.01160264  2.59987629  1.31083476  3.7574595   0.21321739\n",
      "  0.37927727  0.03108096 -1.07668602]\n"
     ]
    },
    {
     "name": "stdout",
     "output_type": "stream",
     "text": [
      "loss:  0.5210725415568358\n",
      "weights:  [ 0.95308645  0.67008829  0.85223113  0.90210113  0.33704423  2.15188688\n",
      "  2.37077193  0.01160264  2.72875047  1.15829136  3.8802372   0.40719815\n",
      "  0.37927727 -0.02889925 -1.13774103]\n",
      "loss:  0.5101807442509285\n",
      "weights:  [ 9.53086454e-01  6.70088291e-01  8.52231126e-01  9.02101129e-01\n",
      "  4.02085118e-01  2.24823919e+00  2.39078432e+00  1.16026381e-02\n",
      "  2.77090290e+00  1.22710724e+00  3.82870729e+00  2.68330191e-01\n",
      "  3.79277273e-01  5.34498946e-04 -1.10771952e+00]\n",
      "loss:  0.47803449062835185\n",
      "weights:  [ 0.95308645  0.67008829  0.85223113  0.90210113  0.84093478  1.78767074\n",
      "  5.139953    0.01160264  2.94320286  1.73661011  2.77230131 -0.34742004\n",
      "  0.37927727  0.07022037 -0.9729598 ]\n",
      "loss:  0.6682274854528594\n",
      "weights:  [ 0.95308645  0.67008829  0.85223113  0.90210113  0.57052342  2.07146483\n",
      "  3.44596413  0.01160264  2.83703468  1.4226635   3.4232399   0.03199431\n",
      "  0.37927727  0.02728117 -1.05599634]\n",
      "loss:  0.37521728023945855\n",
      "weights:  [ 0.95308645  0.67008829  0.85223113  0.90210113  0.61234862  1.67382595\n",
      "  3.15463242  0.01160264  2.56426486  2.0297001   2.27155507 -0.25235643\n",
      "  0.37927727 -0.04873861 -1.26868621]\n",
      "loss:  0.4464134974364344\n",
      "weights:  [ 9.53086454e-01  6.70088291e-01  8.52231126e-01  9.02101129e-01\n",
      "  5.84535508e-01  1.93824967e+00  3.34836351e+00  1.16026381e-02\n",
      "  2.74565258e+00  1.62603012e+00  3.03740771e+00 -6.32675763e-02\n",
      "  3.79277273e-01  1.81337485e-03 -1.12725073e+00]\n",
      "loss:  0.34446977120024\n",
      "weights:  [ 0.95308645  0.67008829  0.85223113  0.90210113  0.80032068  2.25942017\n",
      "  3.30640537  0.01160264  3.09905078  1.92792937  2.81872397 -0.0525501\n",
      "  0.37927727 -0.0096446  -1.11308107]\n",
      "loss:  0.3391329735681941\n",
      "weights:  [ 0.95308645  0.67008829  0.85223113  0.90210113  0.68769997  2.09179767\n",
      "  3.3283038   0.01160264  2.91460829  1.77036476  2.93285747 -0.05814367\n",
      "  0.37927727 -0.00366455 -1.12047638]\n",
      "loss:  0.32342404642028155\n",
      "weights:  [ 0.95308645  0.67008829  0.85223113  0.90210113  0.7741534   2.40860418\n",
      "  2.67952127  0.01160264  3.11730765  1.88348667  2.98927958  0.07192017\n",
      "  0.37927727 -0.02293373 -1.25947213]\n",
      "loss:  0.32285821408116966\n",
      "weights:  [ 0.95308645  0.67008829  0.85223113  0.90210113  0.72409026  2.22514902\n",
      "  3.0552159   0.01160264  2.99992924  1.81798045  2.95660687 -0.00339672\n",
      "  0.37927727 -0.01177541 -1.17898298]\n",
      "loss:  0.3116278416659303\n",
      "weights:  [ 0.95308645  0.67008829  0.85223113  0.90210113  0.77755296  2.26988544\n",
      "  3.14266622  0.01160264  3.08376092  1.80756677  3.03196636  0.19106696\n",
      "  0.37927727  0.06979157 -1.30092068]\n",
      "loss:  0.30439775721804607\n",
      "weights:  [ 0.95308645  0.67008829  0.85223113  0.90210113  0.79355674  2.3128653\n",
      "  3.09612269  0.01160264  3.0559658   1.83487496  3.12679773  0.22583579\n",
      "  0.37927727 -0.0063135  -1.32693057]\n",
      "loss:  0.30318690844064683\n",
      "weights:  [ 0.95308645  0.67008829  0.85223113  0.90210113  0.76745913  2.29415392\n",
      "  3.14935737  0.01160264  3.04421427  1.82926614  3.09256412  0.2147351\n",
      "  0.37927727  0.01519858 -1.30667507]\n",
      "loss:  0.302160920405686\n",
      "weights:  [ 0.95308645  0.67008829  0.85223113  0.90210113  0.76747086  2.30785863\n",
      "  3.16296844  0.01160264  3.04477101  1.84441799  3.06699913  0.22122007\n",
      "  0.37927727  0.0195043  -1.31467017]\n",
      "loss:  0.30190972830397994\n",
      "weights:  [ 0.95308645  0.67008829  0.85223113  0.90210113  0.76235586  2.34478472\n",
      "  3.19074167  0.01160264  3.03986705  1.84817894  3.06274388  0.23333051\n",
      "  0.37927727  0.01534615 -1.32738105]\n",
      "loss:  0.30159926565373696\n",
      "weights:  [ 0.95308645  0.67008829  0.85223113  0.90210113  0.75382622  2.42342707\n",
      "  3.22374758  0.01160264  3.03161264  1.85664734  3.06073274  0.22146288\n",
      "  0.37927727  0.00803302 -1.35644706]\n",
      "loss:  0.3012301338370735\n",
      "weights:  [ 0.95308645  0.67008829  0.85223113  0.90210113  0.7579157   2.51792365\n",
      "  3.2207153   0.01160264  3.01043833  1.85832464  3.0694136   0.19796137\n",
      "  0.37927727  0.00651193 -1.37388151]\n",
      "loss:  0.30104513326811094\n",
      "weights:  [ 0.95308645  0.67008829  0.85223113  0.90210113  0.75058438  2.56910167\n",
      "  3.21201735  0.01160264  3.02985287  1.86412663  3.07988818  0.17037509\n",
      "  0.37927727  0.0108257  -1.38685351]\n",
      "loss:  0.3009823257639889\n",
      "weights:  [ 0.95308645  0.67008829  0.85223113  0.90210113  0.75571843  2.54083236\n",
      "  3.21231154  0.01160264  3.0258131   1.85741228  3.07592405  0.17570347\n",
      "  0.37927727  0.01217844 -1.37981008]\n",
      "loss:  0.3009466521735458\n",
      "weights:  [ 0.95308645  0.67008829  0.85223113  0.90210113  0.75592085  2.54036354\n",
      "  3.20497547  0.01160264  3.02546943  1.85806799  3.0769003   0.17512811\n",
      "  0.37927727  0.01195355 -1.37773372]\n",
      "loss:  0.300944902564107\n",
      "weights:  [ 0.95308645  0.67008829  0.85223113  0.90210113  0.75614425  2.54173118\n",
      "  3.2057557   0.01160264  3.02591905  1.85802965  3.07677045  0.17421224\n",
      "  0.37927727  0.01221917 -1.37808134]\n",
      "loss:  0.300944733686337\n",
      "weights:  [ 0.95308645  0.67008829  0.85223113  0.90210113  0.7560274   2.54163003\n",
      "  3.20564046  0.01160264  3.02578821  1.85796269  3.07688619  0.17422471\n",
      "  0.37927727  0.01226446 -1.3782794 ]\n",
      "loss:  0.3009447212306626\n",
      "weights:  [ 0.95308645  0.67008829  0.85223113  0.90210113  0.75605372  2.54158269\n",
      "  3.20566994  0.01160264  3.02580439  1.85796405  3.0768554   0.17426925\n",
      "  0.37927727  0.01221316 -1.37817606]\n",
      "loss:  0.30094471499313064\n",
      "weights:  [ 0.95308645  0.67008829  0.85223113  0.90210113  0.75605331  2.54158403\n",
      "  3.20566754  0.01160264  3.02580577  1.8579635   3.07685178  0.17426649\n",
      "  0.37927727  0.01221234 -1.37817729]\n",
      "loss:  0.3009447149825533\n",
      "weights:  [ 0.95308645  0.67008829  0.85223113  0.90210113  0.75605177  2.54158473\n",
      "  3.20566852  0.01160264  3.02580644  1.85796156  3.07684805  0.17426395\n",
      "  0.37927727  0.01221277 -1.37817705]\n",
      "loss:  0.3009447149785138\n",
      "weights:  [ 0.95308645  0.67008829  0.85223113  0.90210113  0.75605121  2.54158383\n",
      "  3.20566846  0.01160264  3.02580574  1.85796066  3.07684799  0.17426315\n",
      "  0.37927727  0.01221214 -1.37817664]\n",
      "loss:  0.30094471497826103\n",
      "weights:  [ 0.95308645  0.67008829  0.85223113  0.90210113  0.75605125  2.54158398\n",
      "  3.20566835  0.01160264  3.02580588  1.85796094  3.07684783  0.1742631\n",
      "  0.37927727  0.01221246 -1.37817648]\n",
      "loss:  0.30094471497818814\n",
      "(array([ 0.95308645,  0.67008829,  0.85223113,  0.90210113,  0.75605125,\n",
      "        2.54158398,  3.20566835,  0.01160264,  3.02580588,  1.85796094,\n",
      "        3.07684783,  0.1742631 ,  0.37927727,  0.01221246, -1.37817648]), 60.18894299563763, 65)\n"
     ]
    }
   ],
   "source": [
    "losses = []\n",
    "# optimizer = ADAM(maxiter=30, lr=0.8)\n",
    "optimizer = L_BFGS_B(maxiter=50)\n",
    "# fit_result = optimizer.minimize(\n",
    "fit_result = optimizer.optimize(\n",
    "    num_vars=qnn1.num_weights,\n",
    "    objective_function=function.objective,\n",
    "    initial_point=algorithm_globals.random.random(qnn1.num_weights),\n",
    "    gradient_function=function.gradient,\n",
    ")"
   ]
  },
  {
   "cell_type": "code",
   "execution_count": 21,
   "id": "2d0b1d77",
   "metadata": {},
   "outputs": [
    {
     "data": {
      "text/plain": [
       "[<matplotlib.lines.Line2D at 0x16d1f8574c0>]"
      ]
     },
     "execution_count": 21,
     "metadata": {},
     "output_type": "execute_result"
    },
    {
     "data": {
      "image/png": "[encoded data removed]",
      "text/plain": [
       "<Figure size 432x288 with 1 Axes>"
      ]
     },
     "metadata": {
      "needs_background": "light"
     },
     "output_type": "display_data"
    }
   ],
   "source": [
    "plt.plot(losses)"
   ]
  },
  {
   "cell_type": "code",
   "execution_count": 9,
   "id": "783ee926",
   "metadata": {},
   "outputs": [
    {
     "name": "stdout",
     "output_type": "stream",
     "text": [
      "Accuracy:  0.845\n",
      "tp:  81 tn:  88  fp:  18  fn:  13\n"
     ]
    }
   ],
   "source": [
    "ws = [ 0.95308645,  0.67008829,  0.85223113,  0.90210113,  0.75605125,\n",
    "        2.54158398,  3.20566835,  0.01160264,  3.02580588,  1.85796094,\n",
    "        3.07684783,  0.1742631 ,  0.37927727,  0.01221246, -1.37817648]\n",
    "\n",
    "from test_utils import get_metrics\n",
    "y_predict, y_tensor, accuracy, [tp, tn, fp, fn] = get_metrics(X_train, qnn1, ws)"
   ]
  },
  {
   "cell_type": "code",
   "execution_count": 10,
   "id": "b1beb34d",
   "metadata": {},
   "outputs": [
    {
     "data": {
      "image/png": "[encoded data removed]",
      "text/plain": [
       "<Figure size 576x576 with 1 Axes>"
      ]
     },
     "metadata": {
      "needs_background": "light"
     },
     "output_type": "display_data"
    }
   ],
   "source": [
    "# print('Accuracy:', acc/len(y_tensor))\n",
    "plt.figure(figsize=(8,8))\n",
    "for x, y_target, y_ in zip(X_train, y_tensor, y_predict):\n",
    "    if y_ == 1:\n",
    "        plt.plot(x[0], x[1], 'bo')\n",
    "    else:\n",
    "        plt.plot(x[0], x[1], 'go')\n",
    "    if y_target != y_:\n",
    "        plt.scatter(x[0], x[1], s=200, facecolors='none', edgecolors='r', linewidths=1)\n",
    "plt.show()"
   ]
  },
  {
   "cell_type": "code",
   "execution_count": 11,
   "id": "1e0c08b9-6494-4955-b672-936938b6f630",
   "metadata": {},
   "outputs": [
    {
     "name": "stdout",
     "output_type": "stream",
     "text": [
      "Accuracy:  0.845\n",
      "tp:  81 tn:  88  fp:  18  fn:  13\n"
     ]
    }
   ],
   "source": [
    "y_predict, y_tensor, accuracy, [tp, tn, fp, fn] = get_metrics(X_train, qnn1, ws)"
   ]
  },
  {
   "cell_type": "code",
   "execution_count": 12,
   "id": "c1afe74d-0fc0-4fb3-835f-eca860b43a2b",
   "metadata": {},
   "outputs": [
    {
     "data": {
      "image/png": "[encoded data removed]",
      "text/plain": [
       "<Figure size 576x576 with 1 Axes>"
      ]
     },
     "metadata": {
      "needs_background": "light"
     },
     "output_type": "display_data"
    }
   ],
   "source": [
    "# print('Accuracy:', acc/len(y_tensor))\n",
    "plt.figure(figsize=(8,8))\n",
    "for x, y_target, y_ in zip(X_test, y_tensor, y_predict):\n",
    "    if y_ == 1:\n",
    "        plt.plot(x[0], x[1], 'bo')\n",
    "    else:\n",
    "        plt.plot(x[0], x[1], 'go')\n",
    "    if y_target != y_:\n",
    "        plt.scatter(x[0], x[1], s=200, facecolors='none', edgecolors='r', linewidths=1)\n",
    "plt.show()"
   ]
  },
  {
   "cell_type": "code",
   "execution_count": null,
   "id": "379bf088",
   "metadata": {},
   "outputs": [],
   "source": []
  }
 ],
 "metadata": {
  "kernelspec": {
   "display_name": "qml",
   "language": "python",
   "name": "qml"
  },
  "language_info": {
   "codemirror_mode": {
    "name": "ipython",
    "version": 3
   },
   "file_extension": ".py",
   "mimetype": "text/x-python",
   "name": "python",
   "nbconvert_exporter": "python",
   "pygments_lexer": "ipython3",
   "version": "3.9.0"
  },
  "widgets": {
   "application/vnd.jupyter.widget-state+json": {
    "state": {
     "088738cb2a2e4d7192d627816bcbb2af": {
      "model_module": "@jupyter-widgets/base",
      "model_module_version": "1.2.0",
      "model_name": "LayoutModel",
      "state": {}
     },
     "0cc4810418064fc19aa886cad8de7d9c": {
      "model_module": "@jupyter-widgets/controls",
      "model_module_version": "1.5.0",
      "model_name": "ButtonModel",
      "state": {
       "button_style": "primary",
       "description": "Clear",
       "layout": "IPY_MODEL_987467c34c994f7bab0f1820fa8a11ca",
       "style": "IPY_MODEL_71a083933ef146799f9681eac1e583b8"
      }
     },
     "11475e1c9579408f96cd2950eed925e4": {
      "model_module": "@jupyter-widgets/controls",
      "model_module_version": "1.5.0",
      "model_name": "DescriptionStyleModel",
      "state": {
       "description_width": ""
      }
     },
     "2b2873f517124509b1363b18ef7fe6ea": {
      "model_module": "@jupyter-widgets/controls",
      "model_module_version": "1.5.0",
      "model_name": "HTMLModel",
      "state": {
       "layout": "IPY_MODEL_70e3ae9a035d47eea7026655880433e2",
       "style": "IPY_MODEL_c443cc94971b462c86a8a20275726dd1",
       "value": "<p style='font-family: IBM Plex Sans, Arial, Helvetica, sans-serif; font-size: 20px; font-weight: medium;'>Circuit Properties</p>"
      }
     },
     "2e6496d0f7834e0ca5d30a2f0b5365fd": {
      "model_module": "@jupyter-widgets/base",
      "model_module_version": "1.2.0",
      "model_name": "LayoutModel",
      "state": {
       "grid_template_areas": "\n                                       \". . . . right \"\n                                        ",
       "grid_template_columns": "20% 20% 20% 20% 20%",
       "width": "100%"
      }
     },
     "3726b17f52c849cebb63624b3ccd14c8": {
      "model_module": "@jupyter-widgets/base",
      "model_module_version": "1.2.0",
      "model_name": "LayoutModel",
      "state": {
       "width": "95px"
      }
     },
     "394d992694754837b8882ebfd9af7c33": {
      "model_module": "@jupyter-widgets/controls",
      "model_module_version": "1.5.0",
      "model_name": "DescriptionStyleModel",
      "state": {
       "description_width": ""
      }
     },
     "70e3ae9a035d47eea7026655880433e2": {
      "model_module": "@jupyter-widgets/base",
      "model_module_version": "1.2.0",
      "model_name": "LayoutModel",
      "state": {
       "margin": "0px 0px 10px 0px"
      }
     },
     "714c6130bdd742d18051229e9a46dd08": {
      "model_module": "@jupyter-widgets/base",
      "model_module_version": "1.2.0",
      "model_name": "LayoutModel",
      "state": {
       "margin": "0px 0px 0px 37px",
       "width": "600px"
      }
     },
     "71a083933ef146799f9681eac1e583b8": {
      "model_module": "@jupyter-widgets/controls",
      "model_module_version": "1.5.0",
      "model_name": "ButtonStyleModel",
      "state": {}
     },
     "7bd0b7ad72fe457183275a2f91bf8683": {
      "model_module": "@jupyter-widgets/controls",
      "model_module_version": "1.5.0",
      "model_name": "HTMLModel",
      "state": {
       "layout": "IPY_MODEL_9bb633f065474512975b16de56714ab0",
       "style": "IPY_MODEL_a5b0316a5817424d89f129106772161b",
       "value": "<h5>Job ID</h5>"
      }
     },
     "86f7c5f99e62436db3cf3e36cac1253e": {
      "model_module": "@jupyter-widgets/controls",
      "model_module_version": "1.5.0",
      "model_name": "HTMLModel",
      "state": {
       "layout": "IPY_MODEL_d040c6c36a304422a0065496457ab1c1",
       "style": "IPY_MODEL_11475e1c9579408f96cd2950eed925e4",
       "value": "<h5>Backend</h5>"
      }
     },
     "96681e8267494949b82ab3a8f580a502": {
      "model_module": "@jupyter-widgets/controls",
      "model_module_version": "1.5.0",
      "model_name": "HTMLModel",
      "state": {
       "layout": "IPY_MODEL_088738cb2a2e4d7192d627816bcbb2af",
       "style": "IPY_MODEL_394d992694754837b8882ebfd9af7c33",
       "value": "<h5>Message</h5>"
      }
     },
     "987467c34c994f7bab0f1820fa8a11ca": {
      "model_module": "@jupyter-widgets/base",
      "model_module_version": "1.2.0",
      "model_name": "LayoutModel",
      "state": {
       "grid_area": "right",
       "padding": "0px 0px 0px 0px",
       "width": "70px"
      }
     },
     "9bb633f065474512975b16de56714ab0": {
      "model_module": "@jupyter-widgets/base",
      "model_module_version": "1.2.0",
      "model_name": "LayoutModel",
      "state": {
       "width": "190px"
      }
     },
     "a5b0316a5817424d89f129106772161b": {
      "model_module": "@jupyter-widgets/controls",
      "model_module_version": "1.5.0",
      "model_name": "DescriptionStyleModel",
      "state": {
       "description_width": ""
      }
     },
     "b4c6f63b0ba64707a3ad2faf6824b009": {
      "model_module": "@jupyter-widgets/controls",
      "model_module_version": "1.5.0",
      "model_name": "HTMLModel",
      "state": {
       "layout": "IPY_MODEL_d16b8723d8a44d6c87410e5eb5ea101d",
       "style": "IPY_MODEL_db60d96fa97e4a208850028a9147f131",
       "value": "<h5>Queue</h5>"
      }
     },
     "c443cc94971b462c86a8a20275726dd1": {
      "model_module": "@jupyter-widgets/controls",
      "model_module_version": "1.5.0",
      "model_name": "DescriptionStyleModel",
      "state": {
       "description_width": ""
      }
     },
     "c6e7903cf98140a9b17afffc7b37d489": {
      "model_module": "@jupyter-widgets/controls",
      "model_module_version": "1.5.0",
      "model_name": "HTMLModel",
      "state": {
       "layout": "IPY_MODEL_3726b17f52c849cebb63624b3ccd14c8",
       "style": "IPY_MODEL_f325c919c87243109a35d11c7af03b5b",
       "value": "<h5>Status</h5>"
      }
     },
     "d040c6c36a304422a0065496457ab1c1": {
      "model_module": "@jupyter-widgets/base",
      "model_module_version": "1.2.0",
      "model_name": "LayoutModel",
      "state": {
       "width": "145px"
      }
     },
     "d16b8723d8a44d6c87410e5eb5ea101d": {
      "model_module": "@jupyter-widgets/base",
      "model_module_version": "1.2.0",
      "model_name": "LayoutModel",
      "state": {
       "width": "70px"
      }
     },
     "d5d0f8e1de514b84af1fc759b31a794c": {
      "model_module": "@jupyter-widgets/controls",
      "model_module_version": "1.5.0",
      "model_name": "HBoxModel",
      "state": {
       "children": [
        "IPY_MODEL_7bd0b7ad72fe457183275a2f91bf8683",
        "IPY_MODEL_86f7c5f99e62436db3cf3e36cac1253e",
        "IPY_MODEL_c6e7903cf98140a9b17afffc7b37d489",
        "IPY_MODEL_b4c6f63b0ba64707a3ad2faf6824b009",
        "IPY_MODEL_96681e8267494949b82ab3a8f580a502"
       ],
       "layout": "IPY_MODEL_714c6130bdd742d18051229e9a46dd08"
      }
     },
     "db60d96fa97e4a208850028a9147f131": {
      "model_module": "@jupyter-widgets/controls",
      "model_module_version": "1.5.0",
      "model_name": "DescriptionStyleModel",
      "state": {
       "description_width": ""
      }
     },
     "f251f0496e5d4ecba84fb51b15adc2f7": {
      "model_module": "@jupyter-widgets/controls",
      "model_module_version": "1.5.0",
      "model_name": "GridBoxModel",
      "state": {
       "children": [
        "IPY_MODEL_0cc4810418064fc19aa886cad8de7d9c"
       ],
       "layout": "IPY_MODEL_2e6496d0f7834e0ca5d30a2f0b5365fd"
      }
     },
     "f325c919c87243109a35d11c7af03b5b": {
      "model_module": "@jupyter-widgets/controls",
      "model_module_version": "1.5.0",
      "model_name": "DescriptionStyleModel",
      "state": {
       "description_width": ""
      }
     }
    },
    "version_major": 2,
    "version_minor": 0
   }
  }
 },
 "nbformat": 4,
 "nbformat_minor": 5
}
