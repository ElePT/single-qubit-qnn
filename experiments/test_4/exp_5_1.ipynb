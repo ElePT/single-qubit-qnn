{
 "cells": [
  {
   "cell_type": "code",
   "execution_count": 1,
   "id": "e62fb988-d199-40df-8763-52fa4d7ec6de",
   "metadata": {},
   "outputs": [],
   "source": [
    "import numpy as np\n",
    "from qiskit import Aer, QuantumCircuit\n",
    "from qiskit.circuit import Parameter, ParameterVector\n",
    "from qiskit.opflow import StateFn, PauliSumOp, AerPauliExpectation, ListOp, Gradient, OperatorStateFn\n",
    "from qiskit.utils import QuantumInstance\n",
    "import matplotlib.pyplot as plt\n",
    "import sys, os\n",
    "sys.path.insert(0, os.path.join(\"..\", \"..\",\"src\"))\n",
    "from qiskit_utils import BinaryObjectiveFunction\n",
    "import matplotlib.pyplot as plt\n",
    "\n",
    "# Set a random seed\n",
    "np.random.seed(42)"
   ]
  },
  {
   "cell_type": "code",
   "execution_count": 2,
   "id": "36096802-c15b-43bf-b2ab-b13c7c4b313a",
   "metadata": {},
   "outputs": [],
   "source": [
    "# Set a random seed\n",
    "np.random.seed(42)"
   ]
  },
  {
   "cell_type": "code",
   "execution_count": 3,
   "id": "69f1bd4f",
   "metadata": {},
   "outputs": [],
   "source": [
    "import pandas as pd\n",
    "import numpy as np\n",
    "import seaborn as sns\n",
    "import matplotlib.pyplot as plt\n",
    "import statsmodels.api as sm\n",
    "import warnings\n",
    "warnings.filterwarnings(\"ignore\")"
   ]
  },
  {
   "cell_type": "code",
   "execution_count": 6,
   "id": "7435c7fc",
   "metadata": {},
   "outputs": [
    {
     "data": {
      "text/html": [
       "<div>\n",
       "<style scoped>\n",
       "    .dataframe tbody tr th:only-of-type {\n",
       "        vertical-align: middle;\n",
       "    }\n",
       "\n",
       "    .dataframe tbody tr th {\n",
       "        vertical-align: top;\n",
       "    }\n",
       "\n",
       "    .dataframe thead th {\n",
       "        text-align: right;\n",
       "    }\n",
       "</style>\n",
       "<table border=\"1\" class=\"dataframe\">\n",
       "  <thead>\n",
       "    <tr style=\"text-align: right;\">\n",
       "      <th></th>\n",
       "      <th>Time</th>\n",
       "      <th>V1</th>\n",
       "      <th>V2</th>\n",
       "      <th>V3</th>\n",
       "      <th>V4</th>\n",
       "      <th>V5</th>\n",
       "      <th>V6</th>\n",
       "      <th>V7</th>\n",
       "      <th>V8</th>\n",
       "      <th>V9</th>\n",
       "      <th>V10</th>\n",
       "      <th>V11</th>\n",
       "      <th>V12</th>\n",
       "      <th>V13</th>\n",
       "      <th>V14</th>\n",
       "      <th>V15</th>\n",
       "      <th>V16</th>\n",
       "      <th>V17</th>\n",
       "      <th>V18</th>\n",
       "      <th>V19</th>\n",
       "      <th>V20</th>\n",
       "      <th>V21</th>\n",
       "      <th>V22</th>\n",
       "      <th>V23</th>\n",
       "      <th>V24</th>\n",
       "      <th>V25</th>\n",
       "      <th>V26</th>\n",
       "      <th>V27</th>\n",
       "      <th>V28</th>\n",
       "      <th>Amount</th>\n",
       "      <th>Class</th>\n",
       "    </tr>\n",
       "  </thead>\n",
       "  <tbody>\n",
       "    <tr>\n",
       "      <th>0</th>\n",
       "      <td>0.0</td>\n",
       "      <td>-1.359807</td>\n",
       "      <td>-0.072781</td>\n",
       "      <td>2.536347</td>\n",
       "      <td>1.378155</td>\n",
       "      <td>-0.338321</td>\n",
       "      <td>0.462388</td>\n",
       "      <td>0.239599</td>\n",
       "      <td>0.098698</td>\n",
       "      <td>0.363787</td>\n",
       "      <td>0.090794</td>\n",
       "      <td>-0.551600</td>\n",
       "      <td>-0.617801</td>\n",
       "      <td>-0.991390</td>\n",
       "      <td>-0.311169</td>\n",
       "      <td>1.468177</td>\n",
       "      <td>-0.470401</td>\n",
       "      <td>0.207971</td>\n",
       "      <td>0.025791</td>\n",
       "      <td>0.403993</td>\n",
       "      <td>0.251412</td>\n",
       "      <td>-0.018307</td>\n",
       "      <td>0.277838</td>\n",
       "      <td>-0.110474</td>\n",
       "      <td>0.066928</td>\n",
       "      <td>0.128539</td>\n",
       "      <td>-0.189115</td>\n",
       "      <td>0.133558</td>\n",
       "      <td>-0.021053</td>\n",
       "      <td>149.62</td>\n",
       "      <td>0</td>\n",
       "    </tr>\n",
       "    <tr>\n",
       "      <th>1</th>\n",
       "      <td>0.0</td>\n",
       "      <td>1.191857</td>\n",
       "      <td>0.266151</td>\n",
       "      <td>0.166480</td>\n",
       "      <td>0.448154</td>\n",
       "      <td>0.060018</td>\n",
       "      <td>-0.082361</td>\n",
       "      <td>-0.078803</td>\n",
       "      <td>0.085102</td>\n",
       "      <td>-0.255425</td>\n",
       "      <td>-0.166974</td>\n",
       "      <td>1.612727</td>\n",
       "      <td>1.065235</td>\n",
       "      <td>0.489095</td>\n",
       "      <td>-0.143772</td>\n",
       "      <td>0.635558</td>\n",
       "      <td>0.463917</td>\n",
       "      <td>-0.114805</td>\n",
       "      <td>-0.183361</td>\n",
       "      <td>-0.145783</td>\n",
       "      <td>-0.069083</td>\n",
       "      <td>-0.225775</td>\n",
       "      <td>-0.638672</td>\n",
       "      <td>0.101288</td>\n",
       "      <td>-0.339846</td>\n",
       "      <td>0.167170</td>\n",
       "      <td>0.125895</td>\n",
       "      <td>-0.008983</td>\n",
       "      <td>0.014724</td>\n",
       "      <td>2.69</td>\n",
       "      <td>0</td>\n",
       "    </tr>\n",
       "    <tr>\n",
       "      <th>2</th>\n",
       "      <td>1.0</td>\n",
       "      <td>-1.358354</td>\n",
       "      <td>-1.340163</td>\n",
       "      <td>1.773209</td>\n",
       "      <td>0.379780</td>\n",
       "      <td>-0.503198</td>\n",
       "      <td>1.800499</td>\n",
       "      <td>0.791461</td>\n",
       "      <td>0.247676</td>\n",
       "      <td>-1.514654</td>\n",
       "      <td>0.207643</td>\n",
       "      <td>0.624501</td>\n",
       "      <td>0.066084</td>\n",
       "      <td>0.717293</td>\n",
       "      <td>-0.165946</td>\n",
       "      <td>2.345865</td>\n",
       "      <td>-2.890083</td>\n",
       "      <td>1.109969</td>\n",
       "      <td>-0.121359</td>\n",
       "      <td>-2.261857</td>\n",
       "      <td>0.524980</td>\n",
       "      <td>0.247998</td>\n",
       "      <td>0.771679</td>\n",
       "      <td>0.909412</td>\n",
       "      <td>-0.689281</td>\n",
       "      <td>-0.327642</td>\n",
       "      <td>-0.139097</td>\n",
       "      <td>-0.055353</td>\n",
       "      <td>-0.059752</td>\n",
       "      <td>378.66</td>\n",
       "      <td>0</td>\n",
       "    </tr>\n",
       "    <tr>\n",
       "      <th>3</th>\n",
       "      <td>1.0</td>\n",
       "      <td>-0.966272</td>\n",
       "      <td>-0.185226</td>\n",
       "      <td>1.792993</td>\n",
       "      <td>-0.863291</td>\n",
       "      <td>-0.010309</td>\n",
       "      <td>1.247203</td>\n",
       "      <td>0.237609</td>\n",
       "      <td>0.377436</td>\n",
       "      <td>-1.387024</td>\n",
       "      <td>-0.054952</td>\n",
       "      <td>-0.226487</td>\n",
       "      <td>0.178228</td>\n",
       "      <td>0.507757</td>\n",
       "      <td>-0.287924</td>\n",
       "      <td>-0.631418</td>\n",
       "      <td>-1.059647</td>\n",
       "      <td>-0.684093</td>\n",
       "      <td>1.965775</td>\n",
       "      <td>-1.232622</td>\n",
       "      <td>-0.208038</td>\n",
       "      <td>-0.108300</td>\n",
       "      <td>0.005274</td>\n",
       "      <td>-0.190321</td>\n",
       "      <td>-1.175575</td>\n",
       "      <td>0.647376</td>\n",
       "      <td>-0.221929</td>\n",
       "      <td>0.062723</td>\n",
       "      <td>0.061458</td>\n",
       "      <td>123.50</td>\n",
       "      <td>0</td>\n",
       "    </tr>\n",
       "    <tr>\n",
       "      <th>4</th>\n",
       "      <td>2.0</td>\n",
       "      <td>-1.158233</td>\n",
       "      <td>0.877737</td>\n",
       "      <td>1.548718</td>\n",
       "      <td>0.403034</td>\n",
       "      <td>-0.407193</td>\n",
       "      <td>0.095921</td>\n",
       "      <td>0.592941</td>\n",
       "      <td>-0.270533</td>\n",
       "      <td>0.817739</td>\n",
       "      <td>0.753074</td>\n",
       "      <td>-0.822843</td>\n",
       "      <td>0.538196</td>\n",
       "      <td>1.345852</td>\n",
       "      <td>-1.119670</td>\n",
       "      <td>0.175121</td>\n",
       "      <td>-0.451449</td>\n",
       "      <td>-0.237033</td>\n",
       "      <td>-0.038195</td>\n",
       "      <td>0.803487</td>\n",
       "      <td>0.408542</td>\n",
       "      <td>-0.009431</td>\n",
       "      <td>0.798278</td>\n",
       "      <td>-0.137458</td>\n",
       "      <td>0.141267</td>\n",
       "      <td>-0.206010</td>\n",
       "      <td>0.502292</td>\n",
       "      <td>0.219422</td>\n",
       "      <td>0.215153</td>\n",
       "      <td>69.99</td>\n",
       "      <td>0</td>\n",
       "    </tr>\n",
       "  </tbody>\n",
       "</table>\n",
       "</div>"
      ],
      "text/plain": [
       "   Time        V1        V2        V3        V4        V5        V6        V7  \\\n",
       "0   0.0 -1.359807 -0.072781  2.536347  1.378155 -0.338321  0.462388  0.239599   \n",
       "1   0.0  1.191857  0.266151  0.166480  0.448154  0.060018 -0.082361 -0.078803   \n",
       "2   1.0 -1.358354 -1.340163  1.773209  0.379780 -0.503198  1.800499  0.791461   \n",
       "3   1.0 -0.966272 -0.185226  1.792993 -0.863291 -0.010309  1.247203  0.237609   \n",
       "4   2.0 -1.158233  0.877737  1.548718  0.403034 -0.407193  0.095921  0.592941   \n",
       "\n",
       "         V8        V9       V10       V11       V12       V13       V14  \\\n",
       "0  0.098698  0.363787  0.090794 -0.551600 -0.617801 -0.991390 -0.311169   \n",
       "1  0.085102 -0.255425 -0.166974  1.612727  1.065235  0.489095 -0.143772   \n",
       "2  0.247676 -1.514654  0.207643  0.624501  0.066084  0.717293 -0.165946   \n",
       "3  0.377436 -1.387024 -0.054952 -0.226487  0.178228  0.507757 -0.287924   \n",
       "4 -0.270533  0.817739  0.753074 -0.822843  0.538196  1.345852 -1.119670   \n",
       "\n",
       "        V15       V16       V17       V18       V19       V20       V21  \\\n",
       "0  1.468177 -0.470401  0.207971  0.025791  0.403993  0.251412 -0.018307   \n",
       "1  0.635558  0.463917 -0.114805 -0.183361 -0.145783 -0.069083 -0.225775   \n",
       "2  2.345865 -2.890083  1.109969 -0.121359 -2.261857  0.524980  0.247998   \n",
       "3 -0.631418 -1.059647 -0.684093  1.965775 -1.232622 -0.208038 -0.108300   \n",
       "4  0.175121 -0.451449 -0.237033 -0.038195  0.803487  0.408542 -0.009431   \n",
       "\n",
       "        V22       V23       V24       V25       V26       V27       V28  \\\n",
       "0  0.277838 -0.110474  0.066928  0.128539 -0.189115  0.133558 -0.021053   \n",
       "1 -0.638672  0.101288 -0.339846  0.167170  0.125895 -0.008983  0.014724   \n",
       "2  0.771679  0.909412 -0.689281 -0.327642 -0.139097 -0.055353 -0.059752   \n",
       "3  0.005274 -0.190321 -1.175575  0.647376 -0.221929  0.062723  0.061458   \n",
       "4  0.798278 -0.137458  0.141267 -0.206010  0.502292  0.219422  0.215153   \n",
       "\n",
       "   Amount  Class  \n",
       "0  149.62      0  \n",
       "1    2.69      0  \n",
       "2  378.66      0  \n",
       "3  123.50      0  \n",
       "4   69.99      0  "
      ]
     },
     "execution_count": 6,
     "metadata": {},
     "output_type": "execute_result"
    }
   ],
   "source": [
    "pd.set_option('display.max_columns', None)\n",
    "card = pd.read_csv(r'creditcard.csv')\n",
    "card.head()"
   ]
  },
  {
   "cell_type": "code",
   "execution_count": 6,
   "id": "edb8550b",
   "metadata": {},
   "outputs": [
    {
     "name": "stdout",
     "output_type": "stream",
     "text": [
      "['V1', 'V2', 'V3', 'V4', 'V5', 'V6', 'V7', 'V8', 'V9', 'V10', 'V11', 'V12', 'V13', 'V14', 'V15', 'V16', 'V17', 'V18', 'V19', 'V20', 'V21', 'V22', 'V23', 'V24', 'V25', 'V26', 'V27', 'V28']\n"
     ]
    }
   ],
   "source": [
    "from sklearn.preprocessing import StandardScaler\n",
    "\n",
    "features = ['V'+str(i) for i in range(1,29)]# Separating out the features\n",
    "print(features)\n",
    "x = card.loc[:, features].values# Separating out the target\n",
    "y = card.loc[:,['Class']].values# Standardizing the features\n",
    "x = StandardScaler().fit_transform(x)"
   ]
  },
  {
   "cell_type": "code",
   "execution_count": 7,
   "id": "a4bfe6ae",
   "metadata": {},
   "outputs": [
    {
     "name": "stdout",
     "output_type": "stream",
     "text": [
      "            PC_1      PC_2  Class\n",
      "0      -0.159489  0.437233      0\n",
      "1       0.429272  0.292809      0\n",
      "2      -0.185115  2.124219      0\n",
      "3      -1.880863  1.746039      0\n",
      "4       0.078020 -0.012290      0\n",
      "...          ...       ...    ...\n",
      "284802  3.010082 -2.320279      0\n",
      "284803  0.850977  2.213870      0\n",
      "284804 -0.387380 -0.031430      0\n",
      "284805 -0.157637 -0.940931      0\n",
      "284806  0.452724  0.157124      0\n",
      "\n",
      "[284807 rows x 3 columns]\n"
     ]
    }
   ],
   "source": [
    "from sklearn.decomposition import PCA\n",
    "\n",
    "pca = PCA(n_components=2)\n",
    "principalComponents = pca.fit_transform(x)\n",
    "principalDf = pd.DataFrame(data = principalComponents\n",
    "             , columns = ['PC_1', 'PC_2'])\n",
    "finalDf = pd.concat([principalDf, card[['Class']]], axis = 1)\n",
    "print(finalDf)"
   ]
  },
  {
   "cell_type": "code",
   "execution_count": 8,
   "id": "f32cd20c",
   "metadata": {},
   "outputs": [
    {
     "data": {
      "image/png": "[encoded data removed]",
      "text/plain": [
       "<Figure size 576x576 with 1 Axes>"
      ]
     },
     "metadata": {
      "needs_background": "light"
     },
     "output_type": "display_data"
    }
   ],
   "source": [
    "from mpl_toolkits.mplot3d import Axes3D\n",
    "\n",
    "fig = plt.figure(figsize = (8,8))\n",
    "ax = fig.add_subplot(1,1,1) \n",
    "# ax = Axes3D(fig, rect=[0, 0, .95, 1], elev=48, azim=134)\n",
    "\n",
    "ax.set_xlabel('Principal Component 1', fontsize = 15)\n",
    "ax.set_ylabel('Principal Component 2', fontsize = 15)\n",
    "# ax.set_ylabel('Principal Component 3', fontsize = 15)\n",
    "ax.set_title('2 component PCA', fontsize = 20)\n",
    "targets = [0, 1]\n",
    "colors = ['g', 'b']\n",
    "for target, color in zip(targets,colors):\n",
    "    indicesToKeep = finalDf['Class'] == target\n",
    "    ax.scatter(finalDf.loc[indicesToKeep, 'PC_1']\n",
    "               , finalDf.loc[indicesToKeep, 'PC_2']\n",
    "#              , finalDf.loc[indicesToKeep, 'PC_3']\n",
    "               , c = color\n",
    "               , s = 50)\n",
    "ax.legend(targets)\n",
    "ax.grid()"
   ]
  },
  {
   "cell_type": "code",
   "execution_count": 9,
   "id": "11055404",
   "metadata": {},
   "outputs": [
    {
     "name": "stdout",
     "output_type": "stream",
     "text": [
      "(284315, 3)\n",
      "(492, 3)\n",
      "         PC_1       PC_2  Class\n",
      "0    0.166049  -0.415800      0\n",
      "1    0.959359   5.088638      1\n",
      "2    2.228830  22.094746      1\n",
      "3    0.004123   5.401093      1\n",
      "4    0.403141   0.107433      0\n",
      "..        ...        ...    ...\n",
      "395 -0.127230  -0.209708      0\n",
      "396 -0.211004   4.117775      1\n",
      "397  0.092443  -0.260135      1\n",
      "398  2.317528   0.230972      1\n",
      "399 -1.792219   4.360807      1\n",
      "\n",
      "[400 rows x 3 columns]\n"
     ]
    }
   ],
   "source": [
    "good_idx = finalDf['Class'] == 0\n",
    "bad_idx = finalDf['Class'] == 1\n",
    "\n",
    "good_data = finalDf.loc[good_idx]\n",
    "bad_data = finalDf.loc[bad_idx]\n",
    "print(good_data.shape)\n",
    "print(bad_data.shape)\n",
    "\n",
    "good_sampling = np.random.randint(len(good_data), size=200)\n",
    "final_good = good_data.loc[good_data.index.values[good_sampling]].reset_index(drop=True)\n",
    "\n",
    "bad_sampling = np.random.randint(len(bad_data), size=200)\n",
    "final_bad = bad_data.loc[bad_data.index.values[bad_sampling]].reset_index(drop=True)\n",
    "\n",
    "final = pd.concat([final_good, final_bad], axis=0)\n",
    "\n",
    "from sklearn.utils import shuffle\n",
    "final = shuffle(final).reset_index(drop=True)\n",
    "print(final)"
   ]
  },
  {
   "cell_type": "code",
   "execution_count": 10,
   "id": "6dde4bb8",
   "metadata": {},
   "outputs": [
    {
     "data": {
      "image/png": "[encoded data removed]",
      "text/plain": [
       "<Figure size 576x576 with 1 Axes>"
      ]
     },
     "metadata": {
      "needs_background": "light"
     },
     "output_type": "display_data"
    }
   ],
   "source": [
    "fig = plt.figure(figsize = (8,8))\n",
    "ax = fig.add_subplot(1,1,1) \n",
    "# ax = Axes3D(fig, rect=[0, 0, .95, 1], elev=48, azim=134)\n",
    "\n",
    "ax.set_xlabel('Principal Component 1', fontsize = 15)\n",
    "ax.set_ylabel('Principal Component 2', fontsize = 15)\n",
    "# ax.set_ylabel('Principal Component 3', fontsize = 15)\n",
    "ax.set_title('2 component PCA', fontsize = 20)\n",
    "targets = [0, 1]\n",
    "colors = ['g', 'b']\n",
    "for target, color in zip(targets,colors):\n",
    "    indicesToKeep = final['Class'] == target\n",
    "    ax.scatter(final.loc[indicesToKeep, 'PC_1']\n",
    "               , final.loc[indicesToKeep, 'PC_2']\n",
    "#              , finalDf.loc[indicesToKeep, 'PC_3']\n",
    "               , c = color\n",
    "               , s = 50)\n",
    "ax.legend(targets)\n",
    "ax.grid()"
   ]
  },
  {
   "cell_type": "code",
   "execution_count": 11,
   "id": "3c094627",
   "metadata": {},
   "outputs": [
    {
     "name": "stdout",
     "output_type": "stream",
     "text": [
      "[[ 0.16604913 -0.41579972  0.         -1.        ]\n",
      " [ 0.95935858  5.08863832  0.          1.        ]\n",
      " [ 2.22882954 22.09474612  0.          1.        ]\n",
      " ...\n",
      " [ 0.09244333 -0.26013479  0.          1.        ]\n",
      " [ 2.31752796  0.23097243  0.          1.        ]\n",
      " [-1.7922192   4.36080688  0.          1.        ]]\n"
     ]
    }
   ],
   "source": [
    "X_train = final.values\n",
    "X_train = np.hstack((X_train[:,:-1], np.zeros((X_train.shape[0], 1)))) # padding to reach 3 dimensions\n",
    "label_angles = np.asarray([y if y==1 else -1 for y in final.loc[:,'Class']]).reshape(-1,1)\n",
    "X_train = np.hstack((X_train, label_angles))\n",
    "new_y_train = np.ones(((X_train.shape[0], 1)))\n",
    "print(X_train)"
   ]
  },
  {
   "cell_type": "code",
   "execution_count": 26,
   "id": "9ece7ac1",
   "metadata": {},
   "outputs": [],
   "source": [
    "import random\n",
    "from sklearn.utils import shuffle\n",
    "\n",
    "t_good_idx = finalDf['Class'] == 0\n",
    "t_bad_idx = finalDf['Class'] == 1\n",
    "\n",
    "new_good_data = finalDf.loc[t_good_idx]\n",
    "new_bad_data = finalDf.loc[t_bad_idx]\n",
    "\n",
    "new_good_sampling = random.sample([i for i in range(len(new_good_data)) if i not in good_sampling],330)\n",
    "new_final_good = new_good_data.loc[new_good_data.index.values[new_good_sampling]].reset_index(drop=True)\n",
    "\n",
    "new_bad_sampling = [i for i in range(len(new_bad_data)) if i not in bad_sampling]\n",
    "new_final_bad = new_bad_data.loc[new_bad_data.index.values[new_bad_sampling]].reset_index(drop=True)\n",
    "\n",
    "new_final = pd.concat([new_final_good, new_final_bad], axis=0)\n",
    "new_final = shuffle(new_final).reset_index(drop=True)\n",
    "\n",
    "val_features = np.array(new_final.values[:,:-1])\n",
    "val_targets = np.array(new_final.values[:,-1].reshape([-1,1]))\n",
    "\n",
    "\n",
    "X_test = new_final.values\n",
    "X_test = np.hstack((X_test[:,:-1], np.zeros((X_test.shape[0], 1)))) # padding to reach 3 dimensions\n",
    "test_label_angles = np.asarray([y if y==1 else -1 for y in new_final.loc[:,'Class']]).reshape(-1,1)\n",
    "X_test = np.hstack((X_test, test_label_angles))\n"
   ]
  },
  {
   "cell_type": "code",
   "execution_count": 12,
   "id": "49f850c7-51c8-41c4-a31b-fd21fc7882a3",
   "metadata": {},
   "outputs": [],
   "source": [
    "# set method to calculcate expected values\n",
    "expval = AerPauliExpectation()\n",
    "\n",
    "# define gradient method\n",
    "gradient = Gradient()"
   ]
  },
  {
   "cell_type": "code",
   "execution_count": 13,
   "id": "eb1ceab8-6eb9-4563-8680-5dc5553e09fc",
   "metadata": {},
   "outputs": [],
   "source": [
    "# define quantum instances (statevector and sample based)\n",
    "qi_sv = QuantumInstance(Aer.get_backend('aer_simulator_statevector'))\n",
    "\n",
    "# we set shots to 10 as this will determine the number of samples later on.\n",
    "qi_qasm = QuantumInstance(Aer.get_backend('aer_simulator'), shots=10)"
   ]
  },
  {
   "cell_type": "code",
   "execution_count": 14,
   "id": "aa97debf",
   "metadata": {},
   "outputs": [],
   "source": [
    "from qiskit_machine_learning.neural_networks import NeuralNetwork\n",
    "from qiskit_machine_learning.utils.loss_functions import Loss\n",
    "from typing import Optional, Union\n",
    "import numpy as np\n",
    "\n",
    "try:\n",
    "    from sparse import SparseArray\n",
    "except ImportError:\n",
    "\n",
    "    class SparseArray:  # type: ignore\n",
    "        \"\"\"Empty SparseArray class\n",
    "        Replacement if sparse.SparseArray is not present.\n",
    "        \"\"\"\n",
    "\n",
    "        pass\n",
    "    \n",
    "class ObjectiveFunction2:\n",
    "    \"\"\"An abstract objective function. Provides methods for computing objective value and\n",
    "    gradients for forward and backward passes.\"\"\"\n",
    "\n",
    "    # pylint: disable=invalid-name\n",
    "    def __init__(\n",
    "        self, X: np.ndarray, y: np.ndarray, neural_network1: NeuralNetwork, neural_network2: NeuralNetwork, loss: Loss\n",
    "    ) -> None:\n",
    "        \"\"\"\n",
    "        Args:\n",
    "            X: The input data.\n",
    "            y: The target values.\n",
    "            neural_network: An instance of an quantum neural network to be used by this\n",
    "                objective function.\n",
    "            loss: A target loss function to be used in training.\n",
    "        \"\"\"\n",
    "        super().__init__()\n",
    "        self._X = X\n",
    "        self._y = y\n",
    "        self._neural_network1 = neural_network1\n",
    "        self._neural_network2 = neural_network2\n",
    "        self._loss = loss\n",
    "        self._last_forward_weights: Optional[np.ndarray] = None\n",
    "        self._last_forward: Optional[Union[np.ndarray, SparseArray]] = None\n",
    "\n",
    "    def objective(self, weights: np.ndarray) -> float:\n",
    "        \"\"\"Computes the value of this objective function given weights.\n",
    "\n",
    "        Args:\n",
    "            weights: an array of weights to be used in the objective function.\n",
    "\n",
    "        Returns:\n",
    "            Value of the function.\n",
    "        \"\"\"\n",
    "        raise NotImplementedError\n",
    "\n",
    "    def gradient(self, weights: np.ndarray) -> np.ndarray:\n",
    "        \"\"\"Computes gradients of this objective function given weights.\n",
    "\n",
    "        Args:\n",
    "            weights: an array of weights to be used in the objective function.\n",
    "\n",
    "        Returns:\n",
    "            Gradients of the function.\n",
    "        \"\"\"\n",
    "        raise NotImplementedError\n",
    "\n",
    "    def _neural_network_forward(self, weights: np.ndarray) -> Union[np.ndarray, SparseArray]:\n",
    "        \"\"\"\n",
    "        Computes and caches the results of the forward pass. Cached values may be re-used in\n",
    "        gradient computation.\n",
    "\n",
    "        Args:\n",
    "            weights: an array of weights to be used in the forward pass.\n",
    "\n",
    "        Returns:\n",
    "            The result of the neural network.\n",
    "        \"\"\"\n",
    "        # if we get the same weights, we don't compute the forward pass again.\n",
    "        if self._last_forward_weights is None or (\n",
    "            not np.all(np.isclose(weights, self._last_forward_weights))\n",
    "        ):\n",
    "            fwd = []\n",
    "            for xi in self._X:\n",
    "                if xi[-1] == 1:\n",
    "                # compute forward and cache the results for re-use in backward\n",
    "                    fwd.append(self._neural_network1.forward(xi, weights))\n",
    "                elif xi[-1] == -1:\n",
    "                    fwd.append(self._neural_network2.forward(xi, weights))\n",
    "                else:\n",
    "                    raise NotImplementedError\n",
    "                # a copy avoids keeping a reference to the same array, so we are sure we have\n",
    "                # different arrays on the next iteration.\n",
    "            self._last_forward = np.asarray(fwd).reshape(-1,1)\n",
    "            self._last_forward_weights = np.copy(weights)\n",
    "        return self._last_forward"
   ]
  },
  {
   "cell_type": "code",
   "execution_count": 15,
   "id": "c73a3d98",
   "metadata": {},
   "outputs": [],
   "source": [
    "losses = []\n",
    "class BinaryObjectiveFunction(ObjectiveFunction2):\n",
    "    \"\"\"An objective function for binary representation of the output,\n",
    "    e.g. classes of ``-1`` and ``+1``.\"\"\"\n",
    "\n",
    "    def objective(self, weights: np.ndarray) -> float:\n",
    "        # predict is of shape (N, 1), where N is a number of samples\n",
    "        predict = self._neural_network_forward(weights)\n",
    "        target = np.array(self._y).reshape(predict.shape)\n",
    "        # float(...) is for mypy compliance\n",
    "        return float(np.sum(self._loss(predict, target)))\n",
    "\n",
    "    def gradient(self, weights: np.ndarray) -> np.ndarray:\n",
    "        # check that we have supported output shape\n",
    "        num_outputs = self._neural_network1.output_shape[0]\n",
    "        if num_outputs != 1:\n",
    "            raise ValueError(f\"Number of outputs is expected to be 1, got {num_outputs}\")\n",
    "        \n",
    "#         print(\"x: \", self._X.shape,self._X[-1])\n",
    "        # output must be of shape (N, 1), where N is a number of samples\n",
    "        output = self._neural_network_forward(weights)\n",
    "        print(\"weights: \", weights)\n",
    "#         output = (output + np.ones(output.shape)) * 0.5 # map to 0-1\n",
    "        weight_grad = []\n",
    "        for xi in self._X:\n",
    "            if xi[-1] == 1:\n",
    "                # weight grad is of shape (N, 1, num_weights)\n",
    "                _, wg = self._neural_network1.backward(xi, weights)\n",
    "            elif xi[-1] == -1:\n",
    "                # weight grad is of shape (N, 1, num_weights)\n",
    "                _, wg = self._neural_network2.backward(xi, weights)\n",
    "            else:\n",
    "                    raise NotImplementedError\n",
    "            weight_grad.append(wg[0])\n",
    "        weight_grad = np.asarray(weight_grad)\n",
    "        # we reshape _y since the output has the shape (N, 1) and _y has (N,)\n",
    "        # loss_gradient is of shape (N, 1)\n",
    "        loss_gradient = self._loss.gradient(output, self._y.reshape(-1, 1))\n",
    "        loss = self._loss.evaluate(output, self._y.reshape(-1, 1))\n",
    "        print(\"loss: \", np.sum(loss)/len(loss))\n",
    "        losses.append(np.sum(loss)/len(loss))\n",
    "        # for the output we compute a dot product(matmul) of loss gradient for this output\n",
    "        # and weights for this output.\n",
    "        grad = loss_gradient[:, 0] @ weight_grad[:, 0, :]\n",
    "        # we keep the shape of (1, num_weights)\n",
    "        grad = grad.reshape(1, -1)\n",
    "\n",
    "        return grad"
   ]
  },
  {
   "cell_type": "code",
   "execution_count": 16,
   "id": "162da507-7572-4c80-8b74-d4765f547bba",
   "metadata": {},
   "outputs": [],
   "source": [
    "from qiskit_machine_learning.neural_networks import OpflowQNN"
   ]
  },
  {
   "cell_type": "code",
   "execution_count": 17,
   "id": "7d65245c-cc05-4735-9c3a-3cc7dacb2512",
   "metadata": {
    "scrolled": true
   },
   "outputs": [
    {
     "name": "stdout",
     "output_type": "stream",
     "text": [
      "ComposedOp([\n",
      "  OperatorMeasurement(1.0 * Z),\n",
      "  CircuitStateFn(\n",
      "       ┌──────────────────────────────────┐»\n",
      "  q_0: ┤ U(weight[5],weight[6],weight[7]) ├»\n",
      "       └──────────────────────────────────┘»\n",
      "  «     ┌──────────────────────────────────────────────────────────────────────────────┐»\n",
      "  «q_0: ┤ Rz(input[0]*weight[0] + input[1]*weight[1] + input[2]*weight[2] + weight[3]) ├»\n",
      "  «     └──────────────────────────────────────────────────────────────────────────────┘»\n",
      "  «     ┌───────────────┐\n",
      "  «q_0: ┤ Ry(weight[4]) ├\n",
      "  «     └───────────────┘\n",
      "  )\n",
      "])\n"
     ]
    }
   ],
   "source": [
    "from qiskit.quantum_info import DensityMatrix, Operator\n",
    "\n",
    "inputs = ParameterVector('input', length=4) # 1 extra for label\n",
    "# inputs = ParameterVector('input', length=3)\n",
    "weights = ParameterVector('weight', length=8) # 3 extra for activation/bias\n",
    "\n",
    "# 1qubit classifier\n",
    "qc1 = QuantumCircuit(1)\n",
    "qc1.u(weights[5], weights[6], weights[7],0)\n",
    "qc1.rz(inputs[0]*weights[0]+inputs[1]*weights[1]+inputs[2]*weights[2] + weights[3],0)\n",
    "qc1.ry(weights[4],0)\n",
    "\n",
    "qc_sfn1 = StateFn(qc1)\n",
    "\n",
    "H1 = StateFn(PauliSumOp.from_list([('Z', 1.0)]))  \n",
    "H2 = StateFn(PauliSumOp.from_list([('Z', -1.0)]))  \n",
    "\n",
    "op1 = ~H1 @ (qc_sfn1)\n",
    "op2 = ~H2 @ (qc_sfn1)\n",
    "print(op1)"
   ]
  },
  {
   "cell_type": "code",
   "execution_count": 18,
   "id": "8e97a0cd",
   "metadata": {},
   "outputs": [],
   "source": [
    "qnn1 = OpflowQNN(op1, inputs, weights, expval, gradient, qi_sv, input_gradients=True)\n",
    "qnn2 = OpflowQNN(op2, inputs, weights, expval, gradient, qi_sv, input_gradients=True)"
   ]
  },
  {
   "cell_type": "code",
   "execution_count": 19,
   "id": "e6582a7d",
   "metadata": {},
   "outputs": [
    {
     "name": "stdout",
     "output_type": "stream",
     "text": [
      "<bound method BinaryObjectiveFunction.gradient of <__main__.BinaryObjectiveFunction object at 0x0000027CA50AFA00>>\n",
      "weights:  [0.51604097 0.92887676 0.24903321 0.03088381 0.46096483 0.60630399\n",
      " 0.53164811 0.9127187 ]\n",
      "loss:  1.3108605640492266\n",
      "weights:  [ 0.44456445  0.8659607   0.24903321 -0.05596408  1.12807873  1.33486875\n",
      "  0.44480022  0.9127187 ]\n",
      "loss:  0.9984922717224471\n",
      "weights:  [ 0.51956299  1.15131577  0.24903321 -0.06060414  1.18958018  1.40269442\n",
      "  0.44016016  0.9127187 ]\n",
      "loss:  1.069232308071473\n",
      "weights:  [ 0.4621809   0.93298792  0.24903321 -0.05705398  1.14252484  1.35080037\n",
      "  0.44371031  0.9127187 ]\n",
      "loss:  0.8337718845282773\n",
      "weights:  [ 0.4862514   0.95396119  0.24903321 -0.04846093  1.0665406   1.26727231\n",
      "  0.45230337  0.9127187 ]\n",
      "loss:  0.7952753892229337\n",
      "weights:  [ 0.51079021  0.93164866  0.24903321 -0.02556373  0.8564642   1.03738634\n",
      "  0.47520057  0.9127187 ]\n",
      "loss:  0.793340966856825\n",
      "weights:  [ 0.49748322  0.94374838  0.24903321 -0.0379805   0.97038517  1.16204971\n",
      "  0.46278379  0.9127187 ]\n",
      "loss:  0.7738469559207605\n",
      "weights:  [ 0.49648263  0.94179368  0.24903321 -0.05538808  0.94635287  1.13840309\n",
      "  0.44537621  0.9127187 ]\n",
      "loss:  0.7698914633522704\n",
      "weights:  [ 0.49003457  0.94146459  0.24903321 -0.10120108  0.92955282  1.12605385\n",
      "  0.39956321  0.9127187 ]\n",
      "loss:  0.7652923927523338\n",
      "weights:  [ 0.48589499  0.94512578  0.24903321 -0.1318606   0.92934175  1.12962769\n",
      "  0.3689037   0.9127187 ]\n",
      "loss:  0.7637123459455375\n",
      "weights:  [ 0.49331327  0.94774082  0.24903321 -0.14898523  0.93586517  1.13956267\n",
      "  0.35177907  0.9127187 ]\n",
      "loss:  0.7631501200465113\n",
      "weights:  [ 0.49205564  0.9487877   0.24903321 -0.14869735  0.93402418  1.13769667\n",
      "  0.35206695  0.9127187 ]\n",
      "loss:  0.7631090119706744\n",
      "weights:  [ 0.49053305  0.94958247  0.24903321 -0.1481417   0.93386447  1.13763248\n",
      "  0.3526226   0.9127187 ]\n",
      "loss:  0.7630963148192527\n",
      "weights:  [ 0.48989395  0.94978633  0.24903321 -0.14818463  0.93411033  1.13803489\n",
      "  0.35257967  0.9127187 ]\n",
      "loss:  0.7630947169614487\n",
      "weights:  [ 0.48975548  0.94979896  0.24903321 -0.14829424  0.93400155  1.13842484\n",
      "  0.35247006  0.9127187 ]\n",
      "loss:  0.7630942271557446\n",
      "weights:  [ 0.48959542  0.94979973  0.24903321 -0.14846218  0.93345748  1.13933786\n",
      "  0.35230211  0.9127187 ]\n",
      "loss:  0.7630933831917254\n",
      "weights:  [ 0.48945416  0.94980229  0.24903321 -0.14863444  0.93210857  1.14097771\n",
      "  0.35212986  0.9127187 ]\n",
      "loss:  0.7630919444829947\n",
      "weights:  [ 0.48932742  0.94978927  0.24903321 -0.14884295  0.92780692  1.14556022\n",
      "  0.35192134  0.9127187 ]\n",
      "loss:  0.7630881629349576\n",
      "weights:  [ 0.48946381  0.94974072  0.24903321 -0.14882993  0.91992783  1.15321048\n",
      "  0.35193436  0.9127187 ]\n",
      "loss:  0.7630823820454612\n",
      "weights:  [ 0.48996204  0.94968157  0.24903321 -0.14846454  0.9116226   1.16029798\n",
      "  0.35229975  0.9127187 ]\n",
      "loss:  0.763076662863441\n",
      "weights:  [ 0.49062553  0.94961508  0.24903321 -0.14764538  0.9086134   1.16240046\n",
      "  0.35311891  0.9127187 ]\n",
      "loss:  0.7630736031364816\n",
      "weights:  [ 0.490714    0.949563    0.24903321 -0.14741413  0.90905285  1.16125145\n",
      "  0.35335016  0.9127187 ]\n",
      "loss:  0.7630732624636007\n",
      "weights:  [ 0.49093457  0.94980388  0.24903321 -0.14780941  0.91053738  1.16013599\n",
      "  0.35295489  0.9127187 ]\n",
      "loss:  0.7630742873779931\n",
      "weights:  [ 0.49075413  0.94960683  0.24903321 -0.14748605  0.90932294  1.16104851\n",
      "  0.35327825  0.9127187 ]\n",
      "loss:  0.7630732090767176\n",
      "weights:  [ 0.49077385  0.94960315  0.24903321 -0.14756593  0.90930139  1.16110692\n",
      "  0.35319836  0.9127187 ]\n",
      "loss:  0.7630731846511302\n",
      "weights:  [ 0.49079317  0.94960367  0.24903321 -0.1476949   0.9091679   1.16118422\n",
      "  0.35306939  0.9127187 ]\n",
      "loss:  0.7630731636351074\n",
      "weights:  [ 0.49079014  0.94960668  0.24903321 -0.14771657  0.90911056  1.16118845\n",
      "  0.35304773  0.9127187 ]\n",
      "loss:  0.7630731618555632\n",
      "weights:  [ 0.4907989   0.9496039   0.24903321 -0.14771394  0.90909813  1.16118789\n",
      "  0.35305036  0.9127187 ]\n",
      "loss:  0.7630731618835638\n",
      "weights:  [ 0.49079398  0.94960546  0.24903321 -0.14771541  0.90910511  1.16118821\n",
      "  0.35304888  0.9127187 ]\n",
      "loss:  0.7630731618116476\n",
      "weights:  [ 0.49079187  0.94960619  0.24903321 -0.14771476  0.90910409  1.16118381\n",
      "  0.35304953  0.9127187 ]\n",
      "loss:  0.7630731618116476\n",
      "weights:  [ 0.49079353  0.94960562  0.24903321 -0.14771527  0.90910489  1.16118726\n",
      "  0.35304902  0.9127187 ]\n",
      "loss:  0.7630731618116476\n",
      "weights:  [ 0.49079389  0.94960549  0.24903321 -0.14771538  0.90910506  1.16118801\n",
      "  0.35304891  0.9127187 ]\n",
      "loss:  0.7630731618116476\n",
      "weights:  [ 0.49079396  0.94960547  0.24903321 -0.14771541  0.9091051   1.16118816\n",
      "  0.35304889  0.9127187 ]\n",
      "loss:  0.7630731618116476\n",
      "weights:  [ 0.49079398  0.94960546  0.24903321 -0.14771541  0.90910511  1.1611882\n",
      "  0.35304888  0.9127187 ]\n",
      "loss:  0.7630731618116476\n",
      "weights:  [ 0.49079398  0.94960546  0.24903321 -0.14771541  0.90910511  1.1611882\n",
      "  0.35304888  0.9127187 ]\n",
      "loss:  0.7630731618116476\n",
      "weights:  [ 0.49079398  0.94960546  0.24903321 -0.14771541  0.90910511  1.1611882\n",
      "  0.35304888  0.9127187 ]\n",
      "loss:  0.7630731618116476\n",
      "weights:  [ 0.49079398  0.94960546  0.24903321 -0.14771541  0.90910511  1.1611882\n",
      "  0.35304888  0.9127187 ]\n",
      "loss:  0.7630731618116476\n",
      "weights:  [ 0.49079398  0.94960546  0.24903321 -0.14771541  0.90910511  1.1611882\n",
      "  0.35304888  0.9127187 ]\n",
      "loss:  0.7630731618116476\n",
      "weights:  [ 0.49079398  0.94960546  0.24903321 -0.14771541  0.90910511  1.1611882\n",
      "  0.35304888  0.9127187 ]\n",
      "loss:  0.7630731618116476\n",
      "(array([ 0.49079398,  0.94960546,  0.24903321, -0.14771541,  0.90910511,\n",
      "        1.1611882 ,  0.35304888,  0.9127187 ]), 305.22926472465906, 39)\n"
     ]
    }
   ],
   "source": [
    "from qiskit.algorithms.optimizers import ADAM, L_BFGS_B\n",
    "from qiskit.utils import algorithm_globals\n",
    "from qiskit_machine_learning.utils.loss_functions import (\n",
    "    Loss,\n",
    "    L1Loss,\n",
    "    L2Loss,\n",
    "    CrossEntropyLoss,\n",
    "    CrossEntropySigmoidLoss,\n",
    ")\n",
    "\n",
    "function = BinaryObjectiveFunction(X_train, new_y_train, qnn1, qnn2, L2Loss())\n",
    "print(function.gradient)\n",
    "\n",
    "losses = []\n",
    "# optimizer = ADAM(maxiter=100, lr=0.8)\n",
    "optimizer = L_BFGS_B(maxiter=100)\n",
    "# fit_result = optimizer.minimize(\n",
    "fit_result = optimizer.optimize( \n",
    "    num_vars=qnn1.num_weights,\n",
    "# fit_result = optimizer.minimize(\n",
    "    objective_function=function.objective,\n",
    "    initial_point=algorithm_globals.random.random(qnn1.num_weights),\n",
    "#     initial_point = [-0.24500131,  1.56837407,  2.16465157, -0.19917348, -0.27137013,\n",
    "#         0.44986293,  3.61033542,  0.70411823, -1.03380395],\n",
    "    gradient_function=function.gradient,\n",
    ")\n",
    "\n",
    "print(fit_result)"
   ]
  },
  {
   "cell_type": "code",
   "execution_count": 20,
   "id": "5db0da78",
   "metadata": {},
   "outputs": [
    {
     "data": {
      "text/plain": [
       "[<matplotlib.lines.Line2D at 0x27ca542ca90>]"
      ]
     },
     "execution_count": 20,
     "metadata": {},
     "output_type": "execute_result"
    },
    {
     "data": {
      "image/png": "[encoded data removed]",
      "text/plain": [
       "<Figure size 432x288 with 1 Axes>"
      ]
     },
     "metadata": {
      "needs_background": "light"
     },
     "output_type": "display_data"
    }
   ],
   "source": [
    "plt.plot(losses)"
   ]
  },
  {
   "cell_type": "code",
   "execution_count": 43,
   "id": "783ee926",
   "metadata": {},
   "outputs": [
    {
     "name": "stdout",
     "output_type": "stream",
     "text": [
      "0.7275\n",
      "tp:  127 tn:  164  fp:  73  fn:  36\n"
     ]
    }
   ],
   "source": [
    "ws = [ 1.25057594, -1.38167294,  1.30184687,  0.74877937, -1.65893033,\n",
    "        1.16448143,  1.3074473 ,  0.22893918,  4.94326312]\n",
    "\n",
    "ws = [-1.99169907, -1.45083137, -0.58703029,  5.27810314,  4.58990923,\n",
    "        5.38701561,  1.95003618,  0.97021714,  2.58350397]\n",
    "\n",
    "ws = [-0.24500131,  1.56837407,  2.16465157, -0.19917348, -0.27137013,\n",
    "        0.44986293,  3.61033542,  0.70411823, -1.03380395]\n",
    "\n",
    "ws = [ 0.73526243, -0.27777881, -0.06189058,  1.03107754 , 0.86795011,  3.04539571,\n",
    "  3.90483169,  0.704118,    1.64347821]\n",
    "\n",
    "ws = [ 0.82227922, -0.40886506, -0.24672953,  0.92326863,  0.99052758,  3.01854603,\n",
    "  4.00785433,  0.70411802,  1.49928166]\n",
    "\n",
    "ws = [ 0.24971483,  1.0130086,   0.42077521, -0.04789372,  0.69722048, -0.0866758,\n",
    " -0.63077757,  0.98557029,  0.27907908,  1.2140684 ,  0.4184071,   0.91394409,\n",
    "  0.42307811,  0.70724328,  0.41264207]\n",
    "\n",
    "ws = [ 1.01180113,  0.34321002,  0.86534557,  0.52148962, -0.28933151,  0.42036649,\n",
    "  1.93015893,  0.51026066,  0.10362597,  0.91959205,  0.2024445,   1.46312895,\n",
    "  0.62643051,  0.2538462,   1.31934104, -0.02049606, -0.38568446,  0.43729156]\n",
    "\n",
    "ws = [ 0.81002245,  0.73620383,  0.86534557,  0.17807014, -1.12034435,  0.3639984,\n",
    "  1.85705536,  0.51026066, -0.04082386 , 2.61819378,  0.45744516,  1.42455561,\n",
    "  0.62643051, -0.02207456,  2.07627674,  0.4126864,  -0.72910394,  0.43729156]\n",
    "\n",
    "ws = [ 0.49079398,  0.94960546,  0.24903321, -0.14771541,  0.90910511,\n",
    "        1.1611882 ,  0.35304888,  0.9127187 ]\n",
    "\n",
    "count = 0\n",
    "tp=0\n",
    "fn = 0\n",
    "fp = 0\n",
    "y_predict = []\n",
    "y_tensor = []\n",
    "for x in X_train:\n",
    "    out = qnn1.forward(x, ws)\n",
    "    label = 0\n",
    "    if out>0:\n",
    "        label = 1\n",
    "    else:\n",
    "        label = -1\n",
    "    if label == x[-1]:\n",
    "        count +=1\n",
    "        if label ==1: \n",
    "            tp +=1\n",
    "    else:\n",
    "        if label == 1:\n",
    "            fn +=1\n",
    "        else:\n",
    "            fp +=1\n",
    "    y_predict.append(label)\n",
    "    y_tensor.append(x[-1])\n",
    "print(count/len(X_train))\n",
    "# print(len(X_train))\n",
    "print(\"tp: \", tp, \"tn: \", count-tp,\" fp: \", fp, \" fn: \", fn)"
   ]
  },
  {
   "cell_type": "code",
   "execution_count": 39,
   "id": "b1beb34d",
   "metadata": {},
   "outputs": [
    {
     "data": {
      "image/png": "[encoded data removed]",
      "text/plain": [
       "<Figure size 864x864 with 1 Axes>"
      ]
     },
     "metadata": {
      "needs_background": "light"
     },
     "output_type": "display_data"
    }
   ],
   "source": [
    "# print('Accuracy:', acc/len(y_tensor))\n",
    "plt.figure(figsize=(12,12))\n",
    "for x, y_target, y_ in zip(X_train, y_tensor, y_predict):\n",
    "    if y_ == 1:\n",
    "        plt.plot(x[0], x[1], 'bo', markersize=3)\n",
    "    else:\n",
    "        plt.plot(x[0], x[1], 'go', markersize=3)\n",
    "    if y_target != y_:\n",
    "        plt.scatter(x[0], x[1], s=100, facecolors='none', edgecolors='r', linewidths=1)\n",
    "plt.show()"
   ]
  },
  {
   "cell_type": "code",
   "execution_count": 42,
   "id": "1e0c08b9-6494-4955-b672-936938b6f630",
   "metadata": {},
   "outputs": [
    {
     "name": "stdout",
     "output_type": "stream",
     "text": [
      "0.6954545454545454\n",
      "tp:  188 tn:  271  fp:  142  fn:  59\n"
     ]
    }
   ],
   "source": [
    "count = 0\n",
    "tp=0\n",
    "fn = 0\n",
    "fp = 0\n",
    "y_predict = []\n",
    "y_tensor = []\n",
    "for x in X_test:\n",
    "    out = qnn1.forward(x, ws)\n",
    "    label = 0\n",
    "    if out>0:\n",
    "        label = 1\n",
    "    else:\n",
    "        label = -1\n",
    "    if label == x[-1]:\n",
    "        count +=1\n",
    "        if label ==1: \n",
    "            tp +=1\n",
    "    else:\n",
    "        if label == 1:\n",
    "            fn +=1\n",
    "        else:\n",
    "            fp +=1\n",
    "    y_predict.append(label)\n",
    "    y_tensor.append(x[-1])\n",
    "print(count/len(X_test))\n",
    "# print(len(X_train))\n",
    "print(\"tp: \", tp, \"tn: \", count-tp,\" fp: \", fp, \" fn: \", fn)"
   ]
  },
  {
   "cell_type": "code",
   "execution_count": 41,
   "id": "c1afe74d-0fc0-4fb3-835f-eca860b43a2b",
   "metadata": {},
   "outputs": [
    {
     "data": {
      "image/png": "[encoded data removed]",
      "text/plain": [
       "<Figure size 864x864 with 1 Axes>"
      ]
     },
     "metadata": {
      "needs_background": "light"
     },
     "output_type": "display_data"
    }
   ],
   "source": [
    "# print('Accuracy:', acc/len(y_tensor))\n",
    "plt.figure(figsize=(12,12))\n",
    "for x, y_target, y_ in zip(X_test, y_tensor, y_predict):\n",
    "    if y_ == 1:\n",
    "        plt.plot(x[0], x[1], 'bo', markersize=3)\n",
    "    else:\n",
    "        plt.plot(x[0], x[1], 'go', markersize=3)\n",
    "    if y_target != y_:\n",
    "        plt.scatter(x[0], x[1], s=100, facecolors='none', edgecolors='r', linewidths=1)\n",
    "\n",
    "plt.show()"
   ]
  },
  {
   "cell_type": "code",
   "execution_count": null,
   "id": "0c5dcfd0",
   "metadata": {},
   "outputs": [],
   "source": []
  },
  {
   "cell_type": "code",
   "execution_count": null,
   "id": "53c1bea1",
   "metadata": {},
   "outputs": [],
   "source": []
  }
 ],
 "metadata": {
  "kernelspec": {
   "display_name": "qiskit",
   "language": "python",
   "name": "qiskit"
  },
  "language_info": {
   "codemirror_mode": {
    "name": "ipython",
    "version": 3
   },
   "file_extension": ".py",
   "mimetype": "text/x-python",
   "name": "python",
   "nbconvert_exporter": "python",
   "pygments_lexer": "ipython3",
   "version": "3.9.0"
  },
  "widgets": {
   "application/vnd.jupyter.widget-state+json": {
    "state": {
     "088738cb2a2e4d7192d627816bcbb2af": {
      "model_module": "@jupyter-widgets/base",
      "model_module_version": "1.2.0",
      "model_name": "LayoutModel",
      "state": {}
     },
     "0cc4810418064fc19aa886cad8de7d9c": {
      "model_module": "@jupyter-widgets/controls",
      "model_module_version": "1.5.0",
      "model_name": "ButtonModel",
      "state": {
       "button_style": "primary",
       "description": "Clear",
       "layout": "IPY_MODEL_987467c34c994f7bab0f1820fa8a11ca",
       "style": "IPY_MODEL_71a083933ef146799f9681eac1e583b8"
      }
     },
     "11475e1c9579408f96cd2950eed925e4": {
      "model_module": "@jupyter-widgets/controls",
      "model_module_version": "1.5.0",
      "model_name": "DescriptionStyleModel",
      "state": {
       "description_width": ""
      }
     },
     "2b2873f517124509b1363b18ef7fe6ea": {
      "model_module": "@jupyter-widgets/controls",
      "model_module_version": "1.5.0",
      "model_name": "HTMLModel",
      "state": {
       "layout": "IPY_MODEL_70e3ae9a035d47eea7026655880433e2",
       "style": "IPY_MODEL_c443cc94971b462c86a8a20275726dd1",
       "value": "<p style='font-family: IBM Plex Sans, Arial, Helvetica, sans-serif; font-size: 20px; font-weight: medium;'>Circuit Properties</p>"
      }
     },
     "2e6496d0f7834e0ca5d30a2f0b5365fd": {
      "model_module": "@jupyter-widgets/base",
      "model_module_version": "1.2.0",
      "model_name": "LayoutModel",
      "state": {
       "grid_template_areas": "\n                                       \". . . . right \"\n                                        ",
       "grid_template_columns": "20% 20% 20% 20% 20%",
       "width": "100%"
      }
     },
     "3726b17f52c849cebb63624b3ccd14c8": {
      "model_module": "@jupyter-widgets/base",
      "model_module_version": "1.2.0",
      "model_name": "LayoutModel",
      "state": {
       "width": "95px"
      }
     },
     "394d992694754837b8882ebfd9af7c33": {
      "model_module": "@jupyter-widgets/controls",
      "model_module_version": "1.5.0",
      "model_name": "DescriptionStyleModel",
      "state": {
       "description_width": ""
      }
     },
     "70e3ae9a035d47eea7026655880433e2": {
      "model_module": "@jupyter-widgets/base",
      "model_module_version": "1.2.0",
      "model_name": "LayoutModel",
      "state": {
       "margin": "0px 0px 10px 0px"
      }
     },
     "714c6130bdd742d18051229e9a46dd08": {
      "model_module": "@jupyter-widgets/base",
      "model_module_version": "1.2.0",
      "model_name": "LayoutModel",
      "state": {
       "margin": "0px 0px 0px 37px",
       "width": "600px"
      }
     },
     "71a083933ef146799f9681eac1e583b8": {
      "model_module": "@jupyter-widgets/controls",
      "model_module_version": "1.5.0",
      "model_name": "ButtonStyleModel",
      "state": {}
     },
     "7bd0b7ad72fe457183275a2f91bf8683": {
      "model_module": "@jupyter-widgets/controls",
      "model_module_version": "1.5.0",
      "model_name": "HTMLModel",
      "state": {
       "layout": "IPY_MODEL_9bb633f065474512975b16de56714ab0",
       "style": "IPY_MODEL_a5b0316a5817424d89f129106772161b",
       "value": "<h5>Job ID</h5>"
      }
     },
     "86f7c5f99e62436db3cf3e36cac1253e": {
      "model_module": "@jupyter-widgets/controls",
      "model_module_version": "1.5.0",
      "model_name": "HTMLModel",
      "state": {
       "layout": "IPY_MODEL_d040c6c36a304422a0065496457ab1c1",
       "style": "IPY_MODEL_11475e1c9579408f96cd2950eed925e4",
       "value": "<h5>Backend</h5>"
      }
     },
     "96681e8267494949b82ab3a8f580a502": {
      "model_module": "@jupyter-widgets/controls",
      "model_module_version": "1.5.0",
      "model_name": "HTMLModel",
      "state": {
       "layout": "IPY_MODEL_088738cb2a2e4d7192d627816bcbb2af",
       "style": "IPY_MODEL_394d992694754837b8882ebfd9af7c33",
       "value": "<h5>Message</h5>"
      }
     },
     "987467c34c994f7bab0f1820fa8a11ca": {
      "model_module": "@jupyter-widgets/base",
      "model_module_version": "1.2.0",
      "model_name": "LayoutModel",
      "state": {
       "grid_area": "right",
       "padding": "0px 0px 0px 0px",
       "width": "70px"
      }
     },
     "9bb633f065474512975b16de56714ab0": {
      "model_module": "@jupyter-widgets/base",
      "model_module_version": "1.2.0",
      "model_name": "LayoutModel",
      "state": {
       "width": "190px"
      }
     },
     "a5b0316a5817424d89f129106772161b": {
      "model_module": "@jupyter-widgets/controls",
      "model_module_version": "1.5.0",
      "model_name": "DescriptionStyleModel",
      "state": {
       "description_width": ""
      }
     },
     "b4c6f63b0ba64707a3ad2faf6824b009": {
      "model_module": "@jupyter-widgets/controls",
      "model_module_version": "1.5.0",
      "model_name": "HTMLModel",
      "state": {
       "layout": "IPY_MODEL_d16b8723d8a44d6c87410e5eb5ea101d",
       "style": "IPY_MODEL_db60d96fa97e4a208850028a9147f131",
       "value": "<h5>Queue</h5>"
      }
     },
     "c443cc94971b462c86a8a20275726dd1": {
      "model_module": "@jupyter-widgets/controls",
      "model_module_version": "1.5.0",
      "model_name": "DescriptionStyleModel",
      "state": {
       "description_width": ""
      }
     },
     "c6e7903cf98140a9b17afffc7b37d489": {
      "model_module": "@jupyter-widgets/controls",
      "model_module_version": "1.5.0",
      "model_name": "HTMLModel",
      "state": {
       "layout": "IPY_MODEL_3726b17f52c849cebb63624b3ccd14c8",
       "style": "IPY_MODEL_f325c919c87243109a35d11c7af03b5b",
       "value": "<h5>Status</h5>"
      }
     },
     "d040c6c36a304422a0065496457ab1c1": {
      "model_module": "@jupyter-widgets/base",
      "model_module_version": "1.2.0",
      "model_name": "LayoutModel",
      "state": {
       "width": "145px"
      }
     },
     "d16b8723d8a44d6c87410e5eb5ea101d": {
      "model_module": "@jupyter-widgets/base",
      "model_module_version": "1.2.0",
      "model_name": "LayoutModel",
      "state": {
       "width": "70px"
      }
     },
     "d5d0f8e1de514b84af1fc759b31a794c": {
      "model_module": "@jupyter-widgets/controls",
      "model_module_version": "1.5.0",
      "model_name": "HBoxModel",
      "state": {
       "children": [
        "IPY_MODEL_7bd0b7ad72fe457183275a2f91bf8683",
        "IPY_MODEL_86f7c5f99e62436db3cf3e36cac1253e",
        "IPY_MODEL_c6e7903cf98140a9b17afffc7b37d489",
        "IPY_MODEL_b4c6f63b0ba64707a3ad2faf6824b009",
        "IPY_MODEL_96681e8267494949b82ab3a8f580a502"
       ],
       "layout": "IPY_MODEL_714c6130bdd742d18051229e9a46dd08"
      }
     },
     "db60d96fa97e4a208850028a9147f131": {
      "model_module": "@jupyter-widgets/controls",
      "model_module_version": "1.5.0",
      "model_name": "DescriptionStyleModel",
      "state": {
       "description_width": ""
      }
     },
     "f251f0496e5d4ecba84fb51b15adc2f7": {
      "model_module": "@jupyter-widgets/controls",
      "model_module_version": "1.5.0",
      "model_name": "GridBoxModel",
      "state": {
       "children": [
        "IPY_MODEL_0cc4810418064fc19aa886cad8de7d9c"
       ],
       "layout": "IPY_MODEL_2e6496d0f7834e0ca5d30a2f0b5365fd"
      }
     },
     "f325c919c87243109a35d11c7af03b5b": {
      "model_module": "@jupyter-widgets/controls",
      "model_module_version": "1.5.0",
      "model_name": "DescriptionStyleModel",
      "state": {
       "description_width": ""
      }
     }
    },
    "version_major": 2,
    "version_minor": 0
   }
  }
 },
 "nbformat": 4,
 "nbformat_minor": 5
}
