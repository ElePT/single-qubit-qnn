{
 "cells": [
  {
   "cell_type": "code",
   "execution_count": 1,
   "id": "2b440490",
   "metadata": {},
   "outputs": [],
   "source": [
    "import sys,os\n",
    "# print(os.path.dirname(\"C:\\Users\\epena\\OneDrive\\Escritorio\\qml\\m_thesis_git\"))\n",
    "sys.path.append('C:\\\\Users\\\\epena\\\\OneDrive\\\\Escritorio\\\\qml\\\\m_thesis_git\\\\src')"
   ]
  },
  {
   "cell_type": "code",
   "execution_count": 2,
   "id": "8b06f127",
   "metadata": {},
   "outputs": [
    {
     "ename": "ImportError",
     "evalue": "DLL load failed while importing _imaging: The specified module could not be found.",
     "output_type": "error",
     "traceback": [
      "\u001b[1;31m---------------------------------------------------------------------------\u001b[0m",
      "\u001b[1;31mImportError\u001b[0m                               Traceback (most recent call last)",
      "\u001b[1;32m~\\AppData\\Local\\Temp/ipykernel_21180/3951867339.py\u001b[0m in \u001b[0;36m<module>\u001b[1;34m\u001b[0m\n\u001b[0;32m      3\u001b[0m \u001b[1;31m# from qiskit.opflow import StateFn, PauliSumOp, AerPauliExpectation, ListOp, Gradient, OperatorStateFn\u001b[0m\u001b[1;33m\u001b[0m\u001b[1;33m\u001b[0m\u001b[1;33m\u001b[0m\u001b[0m\n\u001b[0;32m      4\u001b[0m \u001b[1;31m# from qiskit.utils import QuantumInstance\u001b[0m\u001b[1;33m\u001b[0m\u001b[1;33m\u001b[0m\u001b[1;33m\u001b[0m\u001b[0m\n\u001b[1;32m----> 5\u001b[1;33m \u001b[1;32mimport\u001b[0m \u001b[0mmatplotlib\u001b[0m\u001b[1;33m.\u001b[0m\u001b[0mpyplot\u001b[0m \u001b[1;32mas\u001b[0m \u001b[0mplt\u001b[0m\u001b[1;33m\u001b[0m\u001b[1;33m\u001b[0m\u001b[0m\n\u001b[0m\u001b[0;32m      6\u001b[0m \u001b[1;32mfrom\u001b[0m \u001b[0mqiskit_utils\u001b[0m \u001b[1;32mimport\u001b[0m \u001b[0mBinaryObjectiveFunction\u001b[0m\u001b[1;33m\u001b[0m\u001b[1;33m\u001b[0m\u001b[0m\n\u001b[0;32m      7\u001b[0m \u001b[1;32mfrom\u001b[0m \u001b[0mdata_utils\u001b[0m \u001b[1;32mimport\u001b[0m \u001b[0mcircle\u001b[0m\u001b[1;33m,\u001b[0m \u001b[0mplot_data\u001b[0m\u001b[1;33m,\u001b[0m \u001b[0mgenerate_ds\u001b[0m\u001b[1;33m\u001b[0m\u001b[1;33m\u001b[0m\u001b[0m\n",
      "\u001b[1;32m~\\anaconda3\\envs\\qml\\lib\\site-packages\\matplotlib\\__init__.py\u001b[0m in \u001b[0;36m<module>\u001b[1;34m\u001b[0m\n\u001b[0;32m    105\u001b[0m \u001b[1;31m# cbook must import matplotlib only within function\u001b[0m\u001b[1;33m\u001b[0m\u001b[1;33m\u001b[0m\u001b[1;33m\u001b[0m\u001b[0m\n\u001b[0;32m    106\u001b[0m \u001b[1;31m# definitions, so it is safe to import from it here.\u001b[0m\u001b[1;33m\u001b[0m\u001b[1;33m\u001b[0m\u001b[1;33m\u001b[0m\u001b[0m\n\u001b[1;32m--> 107\u001b[1;33m \u001b[1;32mfrom\u001b[0m \u001b[1;33m.\u001b[0m \u001b[1;32mimport\u001b[0m \u001b[0m_api\u001b[0m\u001b[1;33m,\u001b[0m \u001b[0mcbook\u001b[0m\u001b[1;33m,\u001b[0m \u001b[0mdocstring\u001b[0m\u001b[1;33m,\u001b[0m \u001b[0mrcsetup\u001b[0m\u001b[1;33m\u001b[0m\u001b[1;33m\u001b[0m\u001b[0m\n\u001b[0m\u001b[0;32m    108\u001b[0m \u001b[1;32mfrom\u001b[0m \u001b[0mmatplotlib\u001b[0m\u001b[1;33m.\u001b[0m\u001b[0mcbook\u001b[0m \u001b[1;32mimport\u001b[0m \u001b[0mMatplotlibDeprecationWarning\u001b[0m\u001b[1;33m,\u001b[0m \u001b[0msanitize_sequence\u001b[0m\u001b[1;33m\u001b[0m\u001b[1;33m\u001b[0m\u001b[0m\n\u001b[0;32m    109\u001b[0m \u001b[1;32mfrom\u001b[0m \u001b[0mmatplotlib\u001b[0m\u001b[1;33m.\u001b[0m\u001b[0mcbook\u001b[0m \u001b[1;32mimport\u001b[0m \u001b[0mmplDeprecation\u001b[0m  \u001b[1;31m# deprecated\u001b[0m\u001b[1;33m\u001b[0m\u001b[1;33m\u001b[0m\u001b[0m\n",
      "\u001b[1;32m~\\anaconda3\\envs\\qml\\lib\\site-packages\\matplotlib\\rcsetup.py\u001b[0m in \u001b[0;36m<module>\u001b[1;34m\u001b[0m\n\u001b[0;32m     22\u001b[0m \u001b[1;32mimport\u001b[0m \u001b[0mnumpy\u001b[0m \u001b[1;32mas\u001b[0m \u001b[0mnp\u001b[0m\u001b[1;33m\u001b[0m\u001b[1;33m\u001b[0m\u001b[0m\n\u001b[0;32m     23\u001b[0m \u001b[1;33m\u001b[0m\u001b[0m\n\u001b[1;32m---> 24\u001b[1;33m \u001b[1;32mfrom\u001b[0m \u001b[0mmatplotlib\u001b[0m \u001b[1;32mimport\u001b[0m \u001b[0m_api\u001b[0m\u001b[1;33m,\u001b[0m \u001b[0manimation\u001b[0m\u001b[1;33m,\u001b[0m \u001b[0mcbook\u001b[0m\u001b[1;33m\u001b[0m\u001b[1;33m\u001b[0m\u001b[0m\n\u001b[0m\u001b[0;32m     25\u001b[0m \u001b[1;32mfrom\u001b[0m \u001b[0mmatplotlib\u001b[0m\u001b[1;33m.\u001b[0m\u001b[0mcbook\u001b[0m \u001b[1;32mimport\u001b[0m \u001b[0mls_mapper\u001b[0m\u001b[1;33m\u001b[0m\u001b[1;33m\u001b[0m\u001b[0m\n\u001b[0;32m     26\u001b[0m \u001b[1;32mfrom\u001b[0m \u001b[0mmatplotlib\u001b[0m\u001b[1;33m.\u001b[0m\u001b[0mcolors\u001b[0m \u001b[1;32mimport\u001b[0m \u001b[0mColormap\u001b[0m\u001b[1;33m,\u001b[0m \u001b[0mis_color_like\u001b[0m\u001b[1;33m\u001b[0m\u001b[1;33m\u001b[0m\u001b[0m\n",
      "\u001b[1;32m~\\anaconda3\\envs\\qml\\lib\\site-packages\\matplotlib\\animation.py\u001b[0m in \u001b[0;36m<module>\u001b[1;34m\u001b[0m\n\u001b[0;32m     32\u001b[0m \u001b[1;33m\u001b[0m\u001b[0m\n\u001b[0;32m     33\u001b[0m \u001b[1;32mimport\u001b[0m \u001b[0mnumpy\u001b[0m \u001b[1;32mas\u001b[0m \u001b[0mnp\u001b[0m\u001b[1;33m\u001b[0m\u001b[1;33m\u001b[0m\u001b[0m\n\u001b[1;32m---> 34\u001b[1;33m \u001b[1;32mfrom\u001b[0m \u001b[0mPIL\u001b[0m \u001b[1;32mimport\u001b[0m \u001b[0mImage\u001b[0m\u001b[1;33m\u001b[0m\u001b[1;33m\u001b[0m\u001b[0m\n\u001b[0m\u001b[0;32m     35\u001b[0m \u001b[1;33m\u001b[0m\u001b[0m\n\u001b[0;32m     36\u001b[0m \u001b[1;32mimport\u001b[0m \u001b[0mmatplotlib\u001b[0m \u001b[1;32mas\u001b[0m \u001b[0mmpl\u001b[0m\u001b[1;33m\u001b[0m\u001b[1;33m\u001b[0m\u001b[0m\n",
      "\u001b[1;32m~\\anaconda3\\envs\\qml\\lib\\site-packages\\PIL\\Image.py\u001b[0m in \u001b[0;36m<module>\u001b[1;34m\u001b[0m\n\u001b[0;32m    112\u001b[0m     \u001b[1;31m# Also note that Image.core is not a publicly documented interface,\u001b[0m\u001b[1;33m\u001b[0m\u001b[1;33m\u001b[0m\u001b[1;33m\u001b[0m\u001b[0m\n\u001b[0;32m    113\u001b[0m     \u001b[1;31m# and should be considered private and subject to change.\u001b[0m\u001b[1;33m\u001b[0m\u001b[1;33m\u001b[0m\u001b[1;33m\u001b[0m\u001b[0m\n\u001b[1;32m--> 114\u001b[1;33m     \u001b[1;32mfrom\u001b[0m \u001b[1;33m.\u001b[0m \u001b[1;32mimport\u001b[0m \u001b[0m_imaging\u001b[0m \u001b[1;32mas\u001b[0m \u001b[0mcore\u001b[0m\u001b[1;33m\u001b[0m\u001b[1;33m\u001b[0m\u001b[0m\n\u001b[0m\u001b[0;32m    115\u001b[0m \u001b[1;33m\u001b[0m\u001b[0m\n\u001b[0;32m    116\u001b[0m     \u001b[1;32mif\u001b[0m \u001b[0m__version__\u001b[0m \u001b[1;33m!=\u001b[0m \u001b[0mgetattr\u001b[0m\u001b[1;33m(\u001b[0m\u001b[0mcore\u001b[0m\u001b[1;33m,\u001b[0m \u001b[1;34m\"PILLOW_VERSION\"\u001b[0m\u001b[1;33m,\u001b[0m \u001b[1;32mNone\u001b[0m\u001b[1;33m)\u001b[0m\u001b[1;33m:\u001b[0m\u001b[1;33m\u001b[0m\u001b[1;33m\u001b[0m\u001b[0m\n",
      "\u001b[1;31mImportError\u001b[0m: DLL load failed while importing _imaging: The specified module could not be found."
     ]
    }
   ],
   "source": [
    "from qiskit import Aer, QuantumCircuit\n",
    "from qiskit.circuit import Parameter, ParameterVector\n",
    "# from qiskit.opflow import StateFn, PauliSumOp, AerPauliExpectation, ListOp, Gradient, OperatorStateFn\n",
    "# from qiskit.utils import QuantumInstance\n",
    "import matplotlib.pyplot as plt\n",
    "from qiskit_utils import BinaryObjectiveFunction\n",
    "from data_utils import circle, plot_data, generate_ds\n",
    "import numpy as np\n",
    "# Set a random seed\n",
    "np.random.seed(42)"
   ]
  },
  {
   "cell_type": "code",
   "execution_count": null,
   "id": "814d5308",
   "metadata": {},
   "outputs": [],
   "source": []
  },
  {
   "cell_type": "code",
   "execution_count": null,
   "id": "ed2d21cc-a221-47d3-b303-925bb3ce1956",
   "metadata": {},
   "outputs": [],
   "source": [
    "# Generate training and test data\n",
    "num_training = 200\n",
    "num_test = 2000\n",
    "\n",
    "X_train, y_train, new_y_train = generate_ds(num_training)\n",
    "X_test, y_test, new_y_test= generate_ds(num_test)"
   ]
  },
  {
   "cell_type": "code",
   "execution_count": null,
   "id": "5b9dea5c",
   "metadata": {},
   "outputs": [],
   "source": [
    "# set method to calculcate expected values\n",
    "# expval = AerPauliExpectation()\n",
    "\n",
    "# define gradient method\n",
    "# gradient = Gradient()\n",
    "\n",
    "# define quantum instances (statevector and sample based)\n",
    "# qi_sv = QuantumInstance(Aer.get_backend('aer_simulator_statevector'))"
   ]
  },
  {
   "cell_type": "code",
   "execution_count": null,
   "id": "49f850c7-51c8-41c4-a31b-fd21fc7882a3",
   "metadata": {},
   "outputs": [],
   "source": [
    "from qiskit_machine_learning.neural_networks import EstimatorQNN\n",
    "from qiskit.quantum_info import SparsePauliOp\n",
    "\n",
    "# construct parametrized circuit\n",
    "inputs = ParameterVector('input', length=4) # 1 extra for label\n",
    "weights = ParameterVector('weight', length=9)\n",
    "\n",
    "# 1qubit classifier\n",
    "qc1 = QuantumCircuit(1)\n",
    "qc1.u(inputs[0],inputs[1],inputs[2], 0)\n",
    "qc1.u(weights[0],weights[1],weights[2], 0)\n",
    "qc1.u(inputs[0],inputs[1],inputs[2], 0)\n",
    "qc1.u(weights[3],weights[4],weights[5], 0)\n",
    "qc1.u(inputs[0],inputs[1],inputs[2], 0)\n",
    "qc1.u(weights[6],weights[7],weights[8], 0)\n",
    "\n",
    "op1 = SparsePauliOp.from_list([('Z', 1.0)])\n",
    "op2 = SparsePauliOp.from_list([('Z', -1.0)])"
   ]
  },
  {
   "cell_type": "code",
   "execution_count": null,
   "id": "eb1ceab8-6eb9-4563-8680-5dc5553e09fc",
   "metadata": {},
   "outputs": [],
   "source": [
    "# construct OpflowQNN with the operator, the input parameters, the weight parameters,\n",
    "# the expected value, gradient, and quantum instance.\n",
    "qnn1 = OpflowQNN(op1, inputs, weights, expval, gradient, qi_sv)\n",
    "qnn2 = OpflowQNN(op2, inputs, weights, expval, gradient, qi_sv)"
   ]
  },
  {
   "cell_type": "code",
   "execution_count": null,
   "id": "aa97debf",
   "metadata": {},
   "outputs": [],
   "source": [
    "from qiskit.algorithms.optimizers import ADAM, L_BFGS_B\n",
    "from qiskit_machine_learning.utils.loss_functions import L2Loss\n",
    "\n",
    "losses = []\n",
    "def callback_fn(avg_loss, weights):\n",
    "    print(\"weights: \", weights)\n",
    "    print(\"loss: \", avg_loss)\n",
    "    losses.append(avg_loss)\n",
    "\n",
    "function = BinaryObjectiveFunction(X_train, new_y_train, qnn1, qnn2, L2Loss(), callback_fn)"
   ]
  },
  {
   "cell_type": "code",
   "execution_count": null,
   "id": "c73a3d98",
   "metadata": {},
   "outputs": [],
   "source": [
    "losses = []\n",
    "# optimizer = ADAM(maxiter=30, lr=0.8)\n",
    "optimizer = L_BFGS_B(maxiter=50)\n",
    "# fit_result = optimizer.minimize(\n",
    "fit_result = optimizer.optimize(\n",
    "    num_vars=qnn1.num_weights,\n",
    "    objective_function=function.objective,\n",
    "    initial_point=algorithm_globals.random.random(qnn1.num_weights),\n",
    "    gradient_function=function.gradient,\n",
    ")"
   ]
  },
  {
   "cell_type": "code",
   "execution_count": null,
   "id": "2d0b1d77",
   "metadata": {},
   "outputs": [],
   "source": [
    "plt.plot(losses)"
   ]
  },
  {
   "cell_type": "code",
   "execution_count": null,
   "id": "783ee926",
   "metadata": {},
   "outputs": [],
   "source": [
    "ws = [-0.91709316,  1.57980935, -1.61740473,  1.1182353,  -1.56539397,  1.52962569,\n",
    " -1.52987669,  0.00201624,  1.47818211]\n",
    "\n",
    "from test_utils import get_metrics\n",
    "y_predict, y_tensor, accuracy, [tp, tn, fp, fn] = get_metrics(X_train, qnn1, ws)"
   ]
  },
  {
   "cell_type": "code",
   "execution_count": null,
   "id": "b1beb34d",
   "metadata": {},
   "outputs": [],
   "source": [
    "# print('Accuracy:', acc/len(y_tensor))\n",
    "plt.figure(figsize=(8,8))\n",
    "for x, y_target, y_ in zip(X_train, y_tensor, y_predict):\n",
    "    if y_ == 1:\n",
    "        plt.plot(x[0], x[1], 'bo')\n",
    "    else:\n",
    "        plt.plot(x[0], x[1], 'go')\n",
    "    if y_target != y_:\n",
    "        plt.scatter(x[0], x[1], s=200, facecolors='none', edgecolors='r', linewidths=1)\n",
    "plt.show()"
   ]
  },
  {
   "cell_type": "code",
   "execution_count": null,
   "id": "1e0c08b9-6494-4955-b672-936938b6f630",
   "metadata": {},
   "outputs": [],
   "source": [
    "y_predict, y_tensor, accuracy, [tp, tn, fp, fn] = get_metrics(X_test, qnn1, ws)"
   ]
  },
  {
   "cell_type": "code",
   "execution_count": null,
   "id": "c1afe74d-0fc0-4fb3-835f-eca860b43a2b",
   "metadata": {},
   "outputs": [],
   "source": [
    "# print('Accuracy:', acc/len(y_tensor))\n",
    "plt.figure(figsize=(8,8))\n",
    "for x, y_target, y_ in zip(X_test, y_tensor, y_predict):\n",
    "    if y_ == 1:\n",
    "        plt.plot(x[0], x[1], 'bo')\n",
    "    else:\n",
    "        plt.plot(x[0], x[1], 'go')\n",
    "    if y_target != y_:\n",
    "        plt.scatter(x[0], x[1], s=200, facecolors='none', edgecolors='r', linewidths=1)\n",
    "plt.show()"
   ]
  },
  {
   "cell_type": "code",
   "execution_count": null,
   "id": "379bf088",
   "metadata": {},
   "outputs": [],
   "source": []
  }
 ],
 "metadata": {
  "kernelspec": {
   "display_name": "qml",
   "language": "python",
   "name": "qml"
  },
  "language_info": {
   "codemirror_mode": {
    "name": "ipython",
    "version": 3
   },
   "file_extension": ".py",
   "mimetype": "text/x-python",
   "name": "python",
   "nbconvert_exporter": "python",
   "pygments_lexer": "ipython3",
   "version": "3.9.0"
  },
  "widgets": {
   "application/vnd.jupyter.widget-state+json": {
    "state": {
     "088738cb2a2e4d7192d627816bcbb2af": {
      "model_module": "@jupyter-widgets/base",
      "model_module_version": "1.2.0",
      "model_name": "LayoutModel",
      "state": {}
     },
     "0cc4810418064fc19aa886cad8de7d9c": {
      "model_module": "@jupyter-widgets/controls",
      "model_module_version": "1.5.0",
      "model_name": "ButtonModel",
      "state": {
       "button_style": "primary",
       "description": "Clear",
       "layout": "IPY_MODEL_987467c34c994f7bab0f1820fa8a11ca",
       "style": "IPY_MODEL_71a083933ef146799f9681eac1e583b8"
      }
     },
     "11475e1c9579408f96cd2950eed925e4": {
      "model_module": "@jupyter-widgets/controls",
      "model_module_version": "1.5.0",
      "model_name": "DescriptionStyleModel",
      "state": {
       "description_width": ""
      }
     },
     "2b2873f517124509b1363b18ef7fe6ea": {
      "model_module": "@jupyter-widgets/controls",
      "model_module_version": "1.5.0",
      "model_name": "HTMLModel",
      "state": {
       "layout": "IPY_MODEL_70e3ae9a035d47eea7026655880433e2",
       "style": "IPY_MODEL_c443cc94971b462c86a8a20275726dd1",
       "value": "<p style='font-family: IBM Plex Sans, Arial, Helvetica, sans-serif; font-size: 20px; font-weight: medium;'>Circuit Properties</p>"
      }
     },
     "2e6496d0f7834e0ca5d30a2f0b5365fd": {
      "model_module": "@jupyter-widgets/base",
      "model_module_version": "1.2.0",
      "model_name": "LayoutModel",
      "state": {
       "grid_template_areas": "\n                                       \". . . . right \"\n                                        ",
       "grid_template_columns": "20% 20% 20% 20% 20%",
       "width": "100%"
      }
     },
     "3726b17f52c849cebb63624b3ccd14c8": {
      "model_module": "@jupyter-widgets/base",
      "model_module_version": "1.2.0",
      "model_name": "LayoutModel",
      "state": {
       "width": "95px"
      }
     },
     "394d992694754837b8882ebfd9af7c33": {
      "model_module": "@jupyter-widgets/controls",
      "model_module_version": "1.5.0",
      "model_name": "DescriptionStyleModel",
      "state": {
       "description_width": ""
      }
     },
     "70e3ae9a035d47eea7026655880433e2": {
      "model_module": "@jupyter-widgets/base",
      "model_module_version": "1.2.0",
      "model_name": "LayoutModel",
      "state": {
       "margin": "0px 0px 10px 0px"
      }
     },
     "714c6130bdd742d18051229e9a46dd08": {
      "model_module": "@jupyter-widgets/base",
      "model_module_version": "1.2.0",
      "model_name": "LayoutModel",
      "state": {
       "margin": "0px 0px 0px 37px",
       "width": "600px"
      }
     },
     "71a083933ef146799f9681eac1e583b8": {
      "model_module": "@jupyter-widgets/controls",
      "model_module_version": "1.5.0",
      "model_name": "ButtonStyleModel",
      "state": {}
     },
     "7bd0b7ad72fe457183275a2f91bf8683": {
      "model_module": "@jupyter-widgets/controls",
      "model_module_version": "1.5.0",
      "model_name": "HTMLModel",
      "state": {
       "layout": "IPY_MODEL_9bb633f065474512975b16de56714ab0",
       "style": "IPY_MODEL_a5b0316a5817424d89f129106772161b",
       "value": "<h5>Job ID</h5>"
      }
     },
     "86f7c5f99e62436db3cf3e36cac1253e": {
      "model_module": "@jupyter-widgets/controls",
      "model_module_version": "1.5.0",
      "model_name": "HTMLModel",
      "state": {
       "layout": "IPY_MODEL_d040c6c36a304422a0065496457ab1c1",
       "style": "IPY_MODEL_11475e1c9579408f96cd2950eed925e4",
       "value": "<h5>Backend</h5>"
      }
     },
     "96681e8267494949b82ab3a8f580a502": {
      "model_module": "@jupyter-widgets/controls",
      "model_module_version": "1.5.0",
      "model_name": "HTMLModel",
      "state": {
       "layout": "IPY_MODEL_088738cb2a2e4d7192d627816bcbb2af",
       "style": "IPY_MODEL_394d992694754837b8882ebfd9af7c33",
       "value": "<h5>Message</h5>"
      }
     },
     "987467c34c994f7bab0f1820fa8a11ca": {
      "model_module": "@jupyter-widgets/base",
      "model_module_version": "1.2.0",
      "model_name": "LayoutModel",
      "state": {
       "grid_area": "right",
       "padding": "0px 0px 0px 0px",
       "width": "70px"
      }
     },
     "9bb633f065474512975b16de56714ab0": {
      "model_module": "@jupyter-widgets/base",
      "model_module_version": "1.2.0",
      "model_name": "LayoutModel",
      "state": {
       "width": "190px"
      }
     },
     "a5b0316a5817424d89f129106772161b": {
      "model_module": "@jupyter-widgets/controls",
      "model_module_version": "1.5.0",
      "model_name": "DescriptionStyleModel",
      "state": {
       "description_width": ""
      }
     },
     "b4c6f63b0ba64707a3ad2faf6824b009": {
      "model_module": "@jupyter-widgets/controls",
      "model_module_version": "1.5.0",
      "model_name": "HTMLModel",
      "state": {
       "layout": "IPY_MODEL_d16b8723d8a44d6c87410e5eb5ea101d",
       "style": "IPY_MODEL_db60d96fa97e4a208850028a9147f131",
       "value": "<h5>Queue</h5>"
      }
     },
     "c443cc94971b462c86a8a20275726dd1": {
      "model_module": "@jupyter-widgets/controls",
      "model_module_version": "1.5.0",
      "model_name": "DescriptionStyleModel",
      "state": {
       "description_width": ""
      }
     },
     "c6e7903cf98140a9b17afffc7b37d489": {
      "model_module": "@jupyter-widgets/controls",
      "model_module_version": "1.5.0",
      "model_name": "HTMLModel",
      "state": {
       "layout": "IPY_MODEL_3726b17f52c849cebb63624b3ccd14c8",
       "style": "IPY_MODEL_f325c919c87243109a35d11c7af03b5b",
       "value": "<h5>Status</h5>"
      }
     },
     "d040c6c36a304422a0065496457ab1c1": {
      "model_module": "@jupyter-widgets/base",
      "model_module_version": "1.2.0",
      "model_name": "LayoutModel",
      "state": {
       "width": "145px"
      }
     },
     "d16b8723d8a44d6c87410e5eb5ea101d": {
      "model_module": "@jupyter-widgets/base",
      "model_module_version": "1.2.0",
      "model_name": "LayoutModel",
      "state": {
       "width": "70px"
      }
     },
     "d5d0f8e1de514b84af1fc759b31a794c": {
      "model_module": "@jupyter-widgets/controls",
      "model_module_version": "1.5.0",
      "model_name": "HBoxModel",
      "state": {
       "children": [
        "IPY_MODEL_7bd0b7ad72fe457183275a2f91bf8683",
        "IPY_MODEL_86f7c5f99e62436db3cf3e36cac1253e",
        "IPY_MODEL_c6e7903cf98140a9b17afffc7b37d489",
        "IPY_MODEL_b4c6f63b0ba64707a3ad2faf6824b009",
        "IPY_MODEL_96681e8267494949b82ab3a8f580a502"
       ],
       "layout": "IPY_MODEL_714c6130bdd742d18051229e9a46dd08"
      }
     },
     "db60d96fa97e4a208850028a9147f131": {
      "model_module": "@jupyter-widgets/controls",
      "model_module_version": "1.5.0",
      "model_name": "DescriptionStyleModel",
      "state": {
       "description_width": ""
      }
     },
     "f251f0496e5d4ecba84fb51b15adc2f7": {
      "model_module": "@jupyter-widgets/controls",
      "model_module_version": "1.5.0",
      "model_name": "GridBoxModel",
      "state": {
       "children": [
        "IPY_MODEL_0cc4810418064fc19aa886cad8de7d9c"
       ],
       "layout": "IPY_MODEL_2e6496d0f7834e0ca5d30a2f0b5365fd"
      }
     },
     "f325c919c87243109a35d11c7af03b5b": {
      "model_module": "@jupyter-widgets/controls",
      "model_module_version": "1.5.0",
      "model_name": "DescriptionStyleModel",
      "state": {
       "description_width": ""
      }
     }
    },
    "version_major": 2,
    "version_minor": 0
   }
  }
 },
 "nbformat": 4,
 "nbformat_minor": 5
}
